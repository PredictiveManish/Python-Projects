{
 "cells": [
  {
   "cell_type": "markdown",
   "id": "5fb29f6e",
   "metadata": {},
   "source": [
    "### Question 1\n",
    "\n",
    "Add Two Numbers"
   ]
  },
  {
   "cell_type": "code",
   "execution_count": 2,
   "id": "7b5f8b05",
   "metadata": {},
   "outputs": [
    {
     "name": "stdout",
     "output_type": "stream",
     "text": [
      "30\n"
     ]
    }
   ],
   "source": [
    "# Your answer here\n",
    "def sum(a, b):\n",
    "    return a+b\n",
    "num1, num2 = map(int, input().split())\n",
    "print(sum(num1, num2))"
   ]
  },
  {
   "cell_type": "markdown",
   "id": "845285b7",
   "metadata": {},
   "source": [
    "### Question 2\n",
    "\n",
    "Find the Square Root"
   ]
  },
  {
   "cell_type": "code",
   "execution_count": 1,
   "id": "ccc69013",
   "metadata": {},
   "outputs": [
    {
     "name": "stdout",
     "output_type": "stream",
     "text": [
      "5.0\n"
     ]
    }
   ],
   "source": [
    "# Your answer here\n",
    "def square_root(num):\n",
    "    return num**0.5\n",
    "num = int(input())\n",
    "print(square_root(num))"
   ]
  },
  {
   "cell_type": "markdown",
   "id": "8cbf4475",
   "metadata": {},
   "source": [
    "### Question 3\n",
    "\n",
    "Calculate the Area of a Triangle (Take input Base and Height)"
   ]
  },
  {
   "cell_type": "code",
   "execution_count": 3,
   "id": "637812b2",
   "metadata": {},
   "outputs": [
    {
     "name": "stdout",
     "output_type": "stream",
     "text": [
      "250.0\n"
     ]
    }
   ],
   "source": [
    "# Your answer here\n",
    "def area_triangle(base, height):\n",
    "    return 0.5 * base * height\n",
    "base = int(input())\n",
    "height = int(input())\n",
    "print(area_triangle(base, height))"
   ]
  },
  {
   "cell_type": "markdown",
   "id": "deda35f8",
   "metadata": {},
   "source": [
    "### Question 4\n",
    "\n",
    "Solve Quadratic Equation"
   ]
  },
  {
   "cell_type": "code",
   "execution_count": 2,
   "id": "20e32b46",
   "metadata": {},
   "outputs": [
    {
     "name": "stdout",
     "output_type": "stream",
     "text": [
      "Roots of equation 4x^2 + 6x + 2 are (-0.5+0j) and (-1+0j)\n"
     ]
    }
   ],
   "source": [
    "# Your answer here\n",
    "import cmath\n",
    "\n",
    "def quadratic(a, b, c):\n",
    "    d = (b**2) - (4*a*c)\n",
    "    root1 = (-b+cmath.sqrt(d))/(2*a)\n",
    "    root2 = (-b-cmath.sqrt(d))/(2*a)\n",
    "    return root1, root2\n",
    "a = int(input())\n",
    "b = int(input())\n",
    "c = int(input())\n",
    "\n",
    "r1, r2 = quadratic(a,b,c)\n",
    "print(f\"Roots of equation {a}x^2 + {b}x + {c} are {r1} and {r2}\")    "
   ]
  },
  {
   "cell_type": "markdown",
   "id": "e05b279b",
   "metadata": {},
   "source": [
    "### Question 5\n",
    "\n",
    "Swap Two Variables (Take two numbers swap it)"
   ]
  },
  {
   "cell_type": "code",
   "execution_count": 1,
   "id": "c6b4c192",
   "metadata": {},
   "outputs": [
    {
     "name": "stdout",
     "output_type": "stream",
     "text": [
      "(20, 10)\n"
     ]
    }
   ],
   "source": [
    "# Your answer here\n",
    "def swap(a,b):\n",
    "    a, b = b, a\n",
    "    return a, b \n",
    "a = int(input())\n",
    "b = int(input())\n",
    "print(swap(a, b))"
   ]
  },
  {
   "cell_type": "markdown",
   "id": "5460287f",
   "metadata": {},
   "source": [
    "### Question 6\n",
    "\n",
    "Convert Kilometers to Miles (Take input km)"
   ]
  },
  {
   "cell_type": "code",
   "execution_count": 1,
   "id": "ebbdaaeb",
   "metadata": {},
   "outputs": [
    {
     "name": "stdout",
     "output_type": "stream",
     "text": [
      "6.2139999999999995\n"
     ]
    }
   ],
   "source": [
    "# Your answer here\n",
    "def km_mile(distance):\n",
    "    return distance*0.6214\n",
    "distance = int(input(\"Enter the distance: \"))\n",
    "print(km_mile(distance))"
   ]
  },
  {
   "cell_type": "markdown",
   "id": "a69e8b89",
   "metadata": {},
   "source": [
    "### Question 7\n",
    "\n",
    "Convert Celsius To Fahrenheit (Take input in Celsius)"
   ]
  },
  {
   "cell_type": "code",
   "execution_count": 3,
   "id": "475119ca",
   "metadata": {},
   "outputs": [
    {
     "name": "stdout",
     "output_type": "stream",
     "text": [
      "98.6\n"
     ]
    }
   ],
   "source": [
    "# Your answer here\n",
    "def celsius_fahrenheit(degree):\n",
    "    return (degree* 9/5) + 32\n",
    "celsius = float(input())\n",
    "print(celsius_fahrenheit(celsius))"
   ]
  },
  {
   "cell_type": "markdown",
   "id": "7e45bd9f",
   "metadata": {},
   "source": [
    "### Question 8\n",
    "\n",
    "Check if a Number is Positive, Negative or 0"
   ]
  },
  {
   "cell_type": "code",
   "execution_count": 3,
   "id": "b7f47693",
   "metadata": {},
   "outputs": [
    {
     "name": "stdout",
     "output_type": "stream",
     "text": [
      "Negative\n"
     ]
    }
   ],
   "source": [
    "# Your answer here\n",
    "def check_number(num):\n",
    "    if num<0:\n",
    "        return \"Negative\" \n",
    "    elif num>0:\n",
    "        return \"Positive\"\n",
    "    else:\n",
    "        return \"Zero\"\n",
    "    \n",
    "num = int(input())\n",
    "print(check_number(num))"
   ]
  },
  {
   "cell_type": "markdown",
   "id": "c5e1a85b",
   "metadata": {},
   "source": [
    "### Question 9\n",
    "\n",
    "Check if a Number is Odd or Even"
   ]
  },
  {
   "cell_type": "code",
   "execution_count": 4,
   "id": "2b845e5b",
   "metadata": {},
   "outputs": [
    {
     "name": "stdout",
     "output_type": "stream",
     "text": [
      "Odd\n"
     ]
    }
   ],
   "source": [
    "# Your answer here\n",
    "def odd_even(num):\n",
    "    if num%2!=0:\n",
    "        return \"Odd\"\n",
    "    else:\n",
    "        return \"Even\"\n",
    "    \n",
    "num = int(input())\n",
    "print(odd_even(num))"
   ]
  },
  {
   "cell_type": "markdown",
   "id": "892f0c28",
   "metadata": {},
   "source": [
    "### Question 10\n",
    "\n",
    "Check Leap Year"
   ]
  },
  {
   "cell_type": "code",
   "execution_count": 6,
   "id": "aac67d73",
   "metadata": {},
   "outputs": [
    {
     "name": "stdout",
     "output_type": "stream",
     "text": [
      "2000 is a leap year.\n"
     ]
    }
   ],
   "source": [
    "# Your answer here\n",
    "def leap(year):\n",
    "    if year%400==0:\n",
    "        return True\n",
    "    else:\n",
    "        if year%4==0:\n",
    "            if year%100!=0:\n",
    "                return True\n",
    "        else:\n",
    "            return False\n",
    "year = int(input())\n",
    "if leap(year):\n",
    "    print(f\"{year} is a leap year.\")\n",
    "else:\n",
    "    print(f\"{year} is not a leap year.\")"
   ]
  },
  {
   "cell_type": "markdown",
   "id": "f85bbabe",
   "metadata": {},
   "source": [
    "### Question 11\n",
    "\n",
    "Find the Largest Among Three Numbers (Take 3 numbers as a input)"
   ]
  },
  {
   "cell_type": "code",
   "execution_count": 7,
   "id": "562e0ee2",
   "metadata": {},
   "outputs": [
    {
     "name": "stdout",
     "output_type": "stream",
     "text": [
      "30\n"
     ]
    }
   ],
   "source": [
    "# Your answer here\n",
    "def largest(num1, num2, num3):\n",
    "    maximum = max(num1, num2, num3)\n",
    "    return maximum\n",
    "a, b, c = map(int, input().split())\n",
    "print(largest(a,b,c))"
   ]
  },
  {
   "cell_type": "markdown",
   "id": "e24173b0",
   "metadata": {},
   "source": [
    "### Question 12\n",
    "\n",
    "Second Largest among three number(take input three number)"
   ]
  },
  {
   "cell_type": "code",
   "execution_count": 8,
   "id": "607fa9bf",
   "metadata": {},
   "outputs": [
    {
     "name": "stdout",
     "output_type": "stream",
     "text": [
      "23\n"
     ]
    }
   ],
   "source": [
    "# Your answer here\n",
    "def second_largest(num1, num2, num3):\n",
    "    numbers = [num1, num2, num3]\n",
    "    numbers.sort()\n",
    "    return numbers[1]\n",
    "a, b, c = map(int, input().split())\n",
    "print(second_largest(a,b,c))"
   ]
  },
  {
   "cell_type": "markdown",
   "id": "9ff6f7a9",
   "metadata": {},
   "source": [
    "### Question 13\n",
    "\n",
    "Display the multiplication Table ex - (2 *1 = 2)"
   ]
  },
  {
   "cell_type": "code",
   "execution_count": 11,
   "id": "b108fe45",
   "metadata": {},
   "outputs": [
    {
     "name": "stdout",
     "output_type": "stream",
     "text": [
      "989 * 1 = 989\n",
      "989 * 2 = 1978\n",
      "989 * 3 = 2967\n",
      "989 * 4 = 3956\n",
      "989 * 5 = 4945\n",
      "989 * 6 = 5934\n",
      "989 * 7 = 6923\n",
      "989 * 8 = 7912\n",
      "989 * 9 = 8901\n",
      "989 * 10 = 9890\n"
     ]
    }
   ],
   "source": [
    "# Your answer here\n",
    "def table(num):\n",
    "    for i in range(1, 11):\n",
    "        print(f\"{num} * {i} = {num*i}\")\n",
    "num = int(input())\n",
    "table(num)"
   ]
  },
  {
   "cell_type": "markdown",
   "id": "a9118a70",
   "metadata": {},
   "source": [
    "### Question 14\n",
    "\n",
    "Find the Factorial of a Number"
   ]
  },
  {
   "cell_type": "code",
   "execution_count": 12,
   "id": "6c1e1cd3",
   "metadata": {},
   "outputs": [
    {
     "name": "stdout",
     "output_type": "stream",
     "text": [
      "3628800\n"
     ]
    }
   ],
   "source": [
    "# Your answer here\n",
    "def factorial(num):\n",
    "    if num==0 or num==1:\n",
    "        return 1\n",
    "    else:\n",
    "        return num * factorial(num-1)\n",
    "\n",
    "num = int(input())\n",
    "print(factorial(num))"
   ]
  },
  {
   "cell_type": "markdown",
   "id": "94d52aa6",
   "metadata": {},
   "source": [
    "### Question 15\n",
    "\n",
    "Perfect Square"
   ]
  },
  {
   "cell_type": "code",
   "execution_count": 13,
   "id": "6cea5814",
   "metadata": {},
   "outputs": [
    {
     "name": "stdout",
     "output_type": "stream",
     "text": [
      "24 is not a perfect square.\n"
     ]
    }
   ],
   "source": [
    "# Your answer here\n",
    "def perfect_square(num):\n",
    "    if num<=0:\n",
    "        return \"Zero and negative values can't be a square.\"\n",
    "    else:\n",
    "        root = num**0.5\n",
    "        if root**2==num:\n",
    "            return True\n",
    "    \n",
    "num = int(input())\n",
    "if perfect_square(num):\n",
    "    print(f\"{num} is a perfect square.\")\n",
    "else:\n",
    "    print(f\"{num} is not a perfect square.\")"
   ]
  },
  {
   "cell_type": "markdown",
   "id": "adb5dd43",
   "metadata": {},
   "source": [
    "### Question 16\n",
    "\n",
    "Check Prime Number (Take one number check it number is prime or not)"
   ]
  },
  {
   "cell_type": "code",
   "execution_count": 16,
   "id": "694fa823",
   "metadata": {},
   "outputs": [
    {
     "name": "stdout",
     "output_type": "stream",
     "text": [
      "1 is not a prime number.\n"
     ]
    }
   ],
   "source": [
    "# Your answer here\n",
    "def check_prime(num):\n",
    "    if num<2:\n",
    "        return \"Prime number starts from 2\"\n",
    "    else:\n",
    "        for i in range(2, num):\n",
    "            if num%i == 0:\n",
    "                return True\n",
    "num = int(input())\n",
    "if check_prime(num):\n",
    "    print(f\"{num} is not a prime number.\")\n",
    "else:\n",
    "    print(f\"{num} is a prime number.\")"
   ]
  },
  {
   "cell_type": "markdown",
   "id": "972064a9",
   "metadata": {},
   "source": [
    "### Question 17\n",
    "\n",
    "Find the Sum of Natural Numbers"
   ]
  },
  {
   "cell_type": "code",
   "execution_count": 17,
   "id": "3d909bb8",
   "metadata": {},
   "outputs": [
    {
     "name": "stdout",
     "output_type": "stream",
     "text": [
      "Sum upto 10: 55\n"
     ]
    }
   ],
   "source": [
    "# Your answer here\n",
    "def sum_naturals(num):\n",
    "    sum = 0\n",
    "    for i in range(1, num+1):\n",
    "        sum += i\n",
    "    return sum\n",
    "num = int(input())\n",
    "print(f\"Sum upto {num}: {sum_naturals(num)}\")"
   ]
  },
  {
   "cell_type": "markdown",
   "id": "444d62dc",
   "metadata": {},
   "source": [
    "### Question 18\n",
    "\n",
    "Find the Factors of a Number"
   ]
  },
  {
   "cell_type": "code",
   "execution_count": 18,
   "id": "5d301b3e",
   "metadata": {},
   "outputs": [
    {
     "name": "stdout",
     "output_type": "stream",
     "text": [
      "Factors of 10: [1, 2, 5, 10]\n"
     ]
    }
   ],
   "source": [
    "# Your answer here\n",
    "def factors(num):\n",
    "    factors_list = []\n",
    "    for i in range(1, num+1):\n",
    "        if num%i==0:\n",
    "            factors_list.append(i)\n",
    "        else:\n",
    "            continue\n",
    "    return factors_list\n",
    "num = int(input())\n",
    "print(f\"Factors of {num}: {factors(num)}\")"
   ]
  },
  {
   "cell_type": "markdown",
   "id": "a34ec8f7",
   "metadata": {},
   "source": [
    "### Question 19\n",
    "\n",
    "Check Whether a Number is Palindrome or Not"
   ]
  },
  {
   "cell_type": "code",
   "execution_count": 1,
   "id": "3d6837c9",
   "metadata": {},
   "outputs": [
    {
     "name": "stdout",
     "output_type": "stream",
     "text": [
      "10101 is a palindrome.\n"
     ]
    }
   ],
   "source": [
    "# Your answer here\n",
    "def palindrome(num):\n",
    "   original = str(num)\n",
    "   reverse = original[::-1]\n",
    "   return original == reverse \n",
    "num = int(input())\n",
    "if palindrome(num):\n",
    "    print(f\"{num} is a palindrome.\")\n",
    "else:\n",
    "    print(f\"{num} is not a palindrome.\")"
   ]
  },
  {
   "cell_type": "markdown",
   "id": "5f560cd3",
   "metadata": {},
   "source": [
    "### Question 20\n",
    "\n",
    "Print the Fibonacci sequence (Display till number input)"
   ]
  },
  {
   "cell_type": "code",
   "execution_count": 4,
   "id": "9069f5db",
   "metadata": {},
   "outputs": [
    {
     "name": "stdout",
     "output_type": "stream",
     "text": [
      "0,1,1,2,3,5,8,13,21,34,55,89,"
     ]
    }
   ],
   "source": [
    "# Your answer here\n",
    "def fibonacci(num):\n",
    "    a, b = 0, 1\n",
    "    while a<=num:\n",
    "        print(a, end=',')\n",
    "        a, b = b, a+b\n",
    "num = int(input())\n",
    "fibonacci(num)"
   ]
  },
  {
   "cell_type": "markdown",
   "id": "84df2864",
   "metadata": {},
   "source": [
    "### Question 21\n",
    "\n",
    "Check Armstrong Number"
   ]
  },
  {
   "cell_type": "code",
   "execution_count": null,
   "id": "669d1e3f",
   "metadata": {},
   "outputs": [
    {
     "name": "stdout",
     "output_type": "stream",
     "text": [
      "153 is an armstrong number.\n"
     ]
    }
   ],
   "source": [
    "# Your answer here\n",
    "def armstrong(num):\n",
    "    n = len(str(num))\n",
    "    temp = num\n",
    "    sum = 0\n",
    "    while temp > 0:\n",
    "        digit = temp % 10\n",
    "        sum += digit ** n\n",
    "        temp //=10\n",
    "    return sum == num\n",
    "num = int(input())\n",
    "if armstrong(num):\n",
    "    print(f\"{num} is an armstrong number.\")\n",
    "else:\n",
    "    print(f\"{num} is not an armstrong number.\")"
   ]
  },
  {
   "cell_type": "markdown",
   "id": "cb8c1f9b",
   "metadata": {},
   "source": [
    "### Question 22\n",
    "\n",
    "Reverse a Number"
   ]
  },
  {
   "cell_type": "code",
   "execution_count": 1,
   "id": "59628943",
   "metadata": {},
   "outputs": [
    {
     "name": "stdout",
     "output_type": "stream",
     "text": [
      "2101\n"
     ]
    }
   ],
   "source": [
    "# Your answer here\n",
    "def reverse(num):\n",
    "    return int(str(num)[::-1] if num>=0 else -int(str(-num)[::-1]))\n",
    "num = int(input())\n",
    "print(reverse(num))"
   ]
  },
  {
   "cell_type": "markdown",
   "id": "6d5aabd7",
   "metadata": {},
   "source": [
    "### Question 23\n",
    "\n",
    "Find HCF or GCD"
   ]
  },
  {
   "cell_type": "code",
   "execution_count": 2,
   "id": "ff330bfa",
   "metadata": {},
   "outputs": [
    {
     "name": "stdout",
     "output_type": "stream",
     "text": [
      "5\n"
     ]
    }
   ],
   "source": [
    "# Your answer here\n",
    "def hcf(a, b):\n",
    "    return a if b==0 else hcf(b, a%b)\n",
    "a = int(input())\n",
    "b = int(input())\n",
    "print(hcf(a, b))"
   ]
  },
  {
   "cell_type": "markdown",
   "id": "22ef5bc0",
   "metadata": {},
   "source": [
    "### Question 24\n",
    "\n",
    "Find LCM"
   ]
  },
  {
   "cell_type": "code",
   "execution_count": 3,
   "id": "17a4fe66",
   "metadata": {},
   "outputs": [
    {
     "name": "stdout",
     "output_type": "stream",
     "text": [
      "370\n"
     ]
    }
   ],
   "source": [
    "# Your answer here\n",
    "def hcf(a, b):\n",
    "    return a if b==0 else hcf(b, a%b)\n",
    "def lcm(a, b):\n",
    "    return abs(a*b) // hcf(a, b)\n",
    "\n",
    "a = int(input())\n",
    "b = int(input())\n",
    "print(lcm(a, b))\n",
    "    "
   ]
  },
  {
   "cell_type": "markdown",
   "id": "872b776b",
   "metadata": {},
   "source": [
    "### Question 25\n",
    "\n",
    "Print all Prime Numbers in an Interval"
   ]
  },
  {
   "cell_type": "code",
   "execution_count": 4,
   "id": "47bb472c",
   "metadata": {},
   "outputs": [
    {
     "name": "stdout",
     "output_type": "stream",
     "text": [
      "11 13 17 19 23 29 31 37 41 43 47 53 59 61 67 71 73 79 83 89 97 "
     ]
    }
   ],
   "source": [
    "# Your answer here\n",
    "def prime(num):\n",
    "    if num<2:\n",
    "        return \"Prime Number starts from 2\"\n",
    "    else:\n",
    "        for i in range(2, num):\n",
    "            if num%i==0:\n",
    "                return False\n",
    "        return True\n",
    "\n",
    "start = int(input())\n",
    "end = int(input())\n",
    "for num in range(start, end+1):\n",
    "    if prime(num):\n",
    "        print(num, end=' ')"
   ]
  },
  {
   "cell_type": "markdown",
   "id": "dec33501",
   "metadata": {},
   "source": [
    "### Question 26\n",
    "\n",
    "Find Armstrong Number in an Interval"
   ]
  },
  {
   "cell_type": "code",
   "execution_count": 6,
   "id": "e468a4bd",
   "metadata": {},
   "outputs": [
    {
     "name": "stdout",
     "output_type": "stream",
     "text": [
      "1 2 3 4 5 6 7 8 9 153 370 371 407 1634 8208 9474 "
     ]
    }
   ],
   "source": [
    "# Your answer here\n",
    "def armstrong(num):\n",
    "    n = len(str(num))\n",
    "    temp = num\n",
    "    sum = 0\n",
    "    while temp > 0:\n",
    "        digit = temp % 10\n",
    "        sum += digit**n\n",
    "        temp //=10\n",
    "    return sum == num\n",
    "start = int(input())\n",
    "end = int(input())\n",
    "for num in range(start, end+1):\n",
    "    if armstrong(num):\n",
    "        print(num, end=' ')"
   ]
  },
  {
   "cell_type": "markdown",
   "id": "8435ae8e",
   "metadata": {},
   "source": [
    "### Question 27\n",
    "\n",
    "Display Powers of 2 Using Anonymous Function"
   ]
  },
  {
   "cell_type": "code",
   "execution_count": 13,
   "id": "91b00c6d",
   "metadata": {},
   "outputs": [
    {
     "name": "stdout",
     "output_type": "stream",
     "text": [
      "Total Terms: 10\n",
      "2 raised to power 0= 1\n",
      "2 raised to power 1= 2\n",
      "2 raised to power 2= 4\n",
      "2 raised to power 3= 8\n",
      "2 raised to power 4= 16\n",
      "2 raised to power 5= 32\n",
      "2 raised to power 6= 64\n",
      "2 raised to power 7= 128\n",
      "2 raised to power 8= 256\n",
      "2 raised to power 9= 512\n",
      "2 raised to power 10= 1024\n"
     ]
    }
   ],
   "source": [
    "# Your answer here\n",
    "def power():\n",
    "    return lambda num: 2**num\n",
    "\n",
    "num = int(input(\"Enter the number upto which powers should be printed:\"))\n",
    "print(\"Total Terms:\", num)\n",
    "pow_func = power()\n",
    "for i in range(num+1):\n",
    "    print(f\"2 raised to power {i}= {pow_func(i)}\")"
   ]
  },
  {
   "cell_type": "markdown",
   "id": "dd79d7ce",
   "metadata": {},
   "source": [
    "### Question 28\n",
    "\n",
    "Find Numbers Divisible by Another Number"
   ]
  },
  {
   "cell_type": "code",
   "execution_count": 17,
   "id": "aecd5fc4",
   "metadata": {},
   "outputs": [
    {
     "name": "stdout",
     "output_type": "stream",
     "text": [
      "Numbers divisible by 90 up to 1000:\n",
      "90\n",
      "180\n",
      "270\n",
      "360\n",
      "450\n",
      "540\n",
      "630\n",
      "720\n",
      "810\n",
      "900\n",
      "990\n"
     ]
    }
   ],
   "source": [
    "# Your answer here\n",
    "def divisible():\n",
    "    return lambda x, y: x % y==0\n",
    "\n",
    "limit = int(input(\"Enter the limit:\"))\n",
    "divisor = int(input(\"Enter the divisor:\"))\n",
    "\n",
    "is_divisble = divisible()\n",
    "print(f\"Numbers divisible by {divisor} up to {limit}:\")\n",
    "for i in range(1, limit+1):\n",
    "    if is_divisble(i, divisor):\n",
    "        print(i)"
   ]
  },
  {
   "cell_type": "markdown",
   "id": "c19d3586",
   "metadata": {},
   "source": [
    "### Question 29\n",
    "\n",
    "Convert Decimal to Binary, Octal and Hexadecimal"
   ]
  },
  {
   "cell_type": "code",
   "execution_count": 1,
   "id": "5bf16870",
   "metadata": {},
   "outputs": [
    {
     "name": "stdout",
     "output_type": "stream",
     "text": [
      "10010"
     ]
    }
   ],
   "source": [
    "# Your answer here\n",
    "num = int(input())\n",
    "def dec_bin(num):\n",
    "    if num > 1:\n",
    "       dec_bin(num//2)\n",
    "    print(num % 2,end = '')\n",
    "dec_bin(num)\n",
    "# print()"
   ]
  },
  {
   "cell_type": "markdown",
   "id": "06dbacd8",
   "metadata": {},
   "source": [
    "### Question 30\n",
    "\n",
    "Find ASCII Value of Character"
   ]
  },
  {
   "cell_type": "code",
   "execution_count": 5,
   "id": "bcbc98f0",
   "metadata": {},
   "outputs": [
    {
     "name": "stdout",
     "output_type": "stream",
     "text": [
      "49\n"
     ]
    }
   ],
   "source": [
    "# Your answer here\n",
    "val = input()\n",
    "print(ord(val[0]))"
   ]
  },
  {
   "cell_type": "markdown",
   "id": "df085f37",
   "metadata": {},
   "source": [
    "### Question 31\n",
    "\n",
    "Make a Simple Calculator"
   ]
  },
  {
   "cell_type": "code",
   "execution_count": 6,
   "id": "c9d8cbb4",
   "metadata": {},
   "outputs": [],
   "source": [
    "# Your answer here\n",
    "# Already did this part"
   ]
  },
  {
   "cell_type": "markdown",
   "id": "86d9da63",
   "metadata": {},
   "source": [
    "### Question 32\n",
    "\n",
    "Shuffle Deck of Cards"
   ]
  },
  {
   "cell_type": "code",
   "execution_count": 5,
   "id": "5c77eba6",
   "metadata": {},
   "outputs": [
    {
     "name": "stdout",
     "output_type": "stream",
     "text": [
      "['2 of clubs', '2 of diamonds', '2 of hearts', '2 of spades', '3 of clubs', '3 of diamonds', '3 of hearts', '3 of spades', '4 of clubs', '4 of diamonds', '4 of hearts', '4 of spades', '5 of clubs', '5 of diamonds', '5 of hearts', '5 of spades', '6 of clubs', '6 of diamonds', '6 of hearts', '6 of spades', '7 of clubs', '7 of diamonds', '7 of hearts', '7 of spades', '8 of clubs', '8 of diamonds', '8 of hearts', '8 of spades', '9 of clubs', '9 of diamonds', '9 of hearts', '9 of spades', '10 of clubs', '10 of diamonds', '10 of hearts', '10 of spades', 'J of clubs', 'J of diamonds', 'J of hearts', 'J of spades', 'Q of clubs', 'Q of diamonds', 'Q of hearts', 'Q of spades', 'K of clubs', 'K of diamonds', 'K of hearts', 'K of spades', 'A of clubs', 'A of diamonds', 'A of hearts', 'A of spades']\n",
      "['10 of hearts', '2 of spades', 'J of spades', 'K of spades', '2 of clubs', '7 of spades', 'K of clubs', '3 of hearts', '9 of hearts', '5 of clubs', 'A of diamonds', '8 of hearts', '10 of spades', '8 of spades', '4 of spades', '6 of diamonds', '2 of diamonds', 'A of spades', '3 of spades', '5 of spades', '9 of spades', '9 of clubs', 'K of diamonds', '5 of hearts', '7 of hearts', '4 of hearts', '9 of diamonds', 'J of clubs', 'J of hearts', 'Q of clubs', 'Q of hearts', '6 of clubs', 'Q of spades', 'A of clubs', '8 of diamonds', '10 of clubs', '3 of diamonds', '5 of diamonds', 'Q of diamonds', '10 of diamonds', '8 of clubs', 'J of diamonds', 'A of hearts', '6 of hearts', '4 of clubs', 'K of hearts', '2 of hearts', '6 of spades', '4 of diamonds', '7 of diamonds', '7 of clubs', '3 of clubs']\n"
     ]
    }
   ],
   "source": [
    "# Your answer here\n",
    "suits = ['clubs','diamonds','hearts','spades']\n",
    "ranks = ['2','3','4','5','6','7','8','9','10','J','Q','K','A']\n",
    "deck = [f\"{rank} of {suit}\" for rank in ranks for suit in suits]\n",
    "print(deck)\n",
    "import random\n",
    "random.shuffle(deck)\n",
    "print(deck)"
   ]
  },
  {
   "cell_type": "markdown",
   "id": "ebe914f6",
   "metadata": {},
   "source": [
    "### Question 33\n",
    "\n",
    "Display Calendar"
   ]
  },
  {
   "cell_type": "code",
   "execution_count": 10,
   "id": "384c5ffd",
   "metadata": {},
   "outputs": [
    {
     "name": "stdout",
     "output_type": "stream",
     "text": [
      "2025-08-20\n"
     ]
    }
   ],
   "source": [
    "# Your answer here\n",
    "import datetime\n",
    "print(datetime.date.today())"
   ]
  },
  {
   "cell_type": "markdown",
   "id": "756081d7",
   "metadata": {},
   "source": [
    "### Question 34\n",
    "\n",
    "Display Fibonacci Sequence Using Recursion"
   ]
  },
  {
   "cell_type": "code",
   "execution_count": 13,
   "id": "c849eac3",
   "metadata": {},
   "outputs": [
    {
     "name": "stdout",
     "output_type": "stream",
     "text": [
      "0\n",
      "1\n",
      "1\n",
      "2\n",
      "3\n",
      "5\n",
      "8\n",
      "13\n",
      "21\n",
      "34\n",
      "55\n",
      "89\n",
      "144\n",
      "233\n",
      "377\n",
      "610\n"
     ]
    }
   ],
   "source": [
    "def fib_recur(num):\n",
    "    if num<0:\n",
    "        return \"Please Enter positive number!\"\n",
    "    elif num<=1:\n",
    "        return num\n",
    "    else:\n",
    "        return (fib_recur(num-1) + fib_recur(num-2))\n",
    "\n",
    "num = int(input())\n",
    "for i in range(num+1):\n",
    "    print(fib_recur(i))"
   ]
  },
  {
   "cell_type": "markdown",
   "id": "2aa10858",
   "metadata": {},
   "source": [
    "### Question 35\n",
    "\n",
    "Find Sum of Natural Numbers Using Recursion"
   ]
  },
  {
   "cell_type": "code",
   "execution_count": 17,
   "id": "5fd7bd63",
   "metadata": {},
   "outputs": [
    {
     "name": "stdout",
     "output_type": "stream",
     "text": [
      "500500\n"
     ]
    }
   ],
   "source": [
    "# Your answer here\n",
    "def sum_nn(num):\n",
    "    if num==0:\n",
    "        return 0\n",
    "    else:\n",
    "        return num + sum_nn(num-1)\n",
    "num = int(input())\n",
    "print(sum_nn(num))"
   ]
  },
  {
   "cell_type": "markdown",
   "id": "2c88f68b",
   "metadata": {},
   "source": [
    "### Question 36\n",
    "\n",
    "Find Factorial of Number Using Recursion"
   ]
  },
  {
   "cell_type": "code",
   "execution_count": 21,
   "id": "64e90eb1",
   "metadata": {},
   "outputs": [
    {
     "name": "stdout",
     "output_type": "stream",
     "text": [
      "93326215443944152681699238856266700490715968264381621468592963895217599993229915608941463976156518286253697920827223758251185210916864000000000000000000000000\n"
     ]
    }
   ],
   "source": [
    "# Your answer here\n",
    "def factorial(num):\n",
    "    if num==0 or num==1:\n",
    "        return 1\n",
    "    else:\n",
    "        return num * factorial(num-1)\n",
    "\n",
    "num = int(input())\n",
    "print(factorial(num))"
   ]
  },
  {
   "cell_type": "markdown",
   "id": "38adf011",
   "metadata": {},
   "source": [
    "### Question 37\n",
    "\n",
    "Convert Decimal to Binary Using Recursion"
   ]
  },
  {
   "cell_type": "code",
   "execution_count": 22,
   "id": "da057a86",
   "metadata": {},
   "outputs": [
    {
     "name": "stdout",
     "output_type": "stream",
     "text": [
      "1101100\n"
     ]
    }
   ],
   "source": [
    "# Your answer here\n",
    "def dec_bin(num):\n",
    "    if num==0:\n",
    "        return 0\n",
    "    elif num==1:\n",
    "        return 1\n",
    "    else:\n",
    "        return (num%2) + 10 * dec_bin(num//2)\n",
    "num = int(input())\n",
    "print(dec_bin(num))"
   ]
  },
  {
   "cell_type": "markdown",
   "id": "d45f3165",
   "metadata": {},
   "source": [
    "### Question 38\n",
    "\n",
    "Add Two Matrices"
   ]
  },
  {
   "cell_type": "code",
   "execution_count": 2,
   "id": "a25bdb4f",
   "metadata": {},
   "outputs": [
    {
     "name": "stdout",
     "output_type": "stream",
     "text": [
      "[10, 10, 10]\n",
      "[10, 10, 10]\n",
      "[10, 10, 10]\n"
     ]
    }
   ],
   "source": [
    "# Your answer here\n",
    "def add_mat(mat1, mat2):\n",
    "    sum_mat = [[mat1[i][j] + mat2[i][j] for j in range(len(mat1[0]))] for i in range(len(mat1))]\n",
    "    for sum in sum_mat:\n",
    "        print(sum)\n",
    "a = [[1, 2, 3], [4, 5, 6], [7, 8, 9]]\n",
    "b = [[9, 8, 7], [6, 5, 4], [3, 2, 1]]\n",
    "add_mat(a, b)"
   ]
  },
  {
   "cell_type": "markdown",
   "id": "f957780a",
   "metadata": {},
   "source": [
    "### Question 39\n",
    "\n",
    "Transpose a Matrix"
   ]
  },
  {
   "cell_type": "code",
   "execution_count": 3,
   "id": "af4ffc1f",
   "metadata": {},
   "outputs": [
    {
     "name": "stdout",
     "output_type": "stream",
     "text": [
      "😒\n"
     ]
    }
   ],
   "source": [
    "# Your answer here\n",
    "def transpose(matrix):\n",
    "        print(\"😒\")\n",
    "name = input()\n",
    "transpose(name)"
   ]
  },
  {
   "cell_type": "markdown",
   "id": "fba452a3",
   "metadata": {},
   "source": [
    "### Question 40\n",
    "\n",
    "Multiply Two Matrices"
   ]
  },
  {
   "cell_type": "code",
   "execution_count": 2,
   "id": "c47247d5",
   "metadata": {},
   "outputs": [
    {
     "name": "stdout",
     "output_type": "stream",
     "text": [
      "[9, 16, 21]\n",
      "[24, 25, 24]\n",
      "[21, 16, 9]\n"
     ]
    }
   ],
   "source": [
    "# Your answer here\n",
    "def multiply_mat(mat1, mat2):\n",
    "    prod_mat = [[mat1[i][j] * mat2[i][j] for j in range(len(mat1[0]))] for i in range(len(mat1))]\n",
    "    for prod in prod_mat:\n",
    "        print(prod)\n",
    "a = [[1, 2, 3], [4, 5, 6], [7, 8, 9]]\n",
    "b = [[9, 8, 7], [6, 5, 4], [3, 2, 1]]\n",
    "multiply_mat(a, b)\n"
   ]
  },
  {
   "cell_type": "markdown",
   "id": "0a7d9782",
   "metadata": {},
   "source": [
    "### Question 41\n",
    "\n",
    "Check Whether a String is Palindrome or Not"
   ]
  },
  {
   "cell_type": "code",
   "execution_count": 5,
   "id": "9dc14e53",
   "metadata": {},
   "outputs": [
    {
     "name": "stdout",
     "output_type": "stream",
     "text": [
      "Palindrome number\n"
     ]
    }
   ],
   "source": [
    "# Your answer here\n",
    "def palindrome(name):\n",
    "    return 1 if name == name[::-1] else 0\n",
    "name = input()\n",
    "if palindrome(name):\n",
    "    print(\"Palindrome number\")\n",
    "else:\n",
    "    print(\"Not a palindrome!!\")"
   ]
  },
  {
   "cell_type": "markdown",
   "id": "f82e4d80",
   "metadata": {},
   "source": [
    "### Question 42\n",
    "\n",
    "Remove Punctuations From a String"
   ]
  },
  {
   "cell_type": "code",
   "execution_count": 6,
   "id": "cb5d460c",
   "metadata": {},
   "outputs": [
    {
     "name": "stdout",
     "output_type": "stream",
     "text": [
      "['Hows', 'Hello', 'Goodbye', 'Take Care', '']\n"
     ]
    }
   ],
   "source": [
    "# Your answer here\n",
    "import string\n",
    "def punctuations(lst):\n",
    "    new_list = []\n",
    "    for word in lst:\n",
    "        for char in word:\n",
    "            if char in string.punctuation:\n",
    "                word = word.replace(char,\"\")\n",
    "        new_list.append(word)\n",
    "    return new_list\n",
    "lst = [\"How's\", \"Hello,\", \"Goodbye!\", \"Take Care\", \"\"]\n",
    "print(punctuations(lst))"
   ]
  },
  {
   "cell_type": "markdown",
   "id": "2cddfa8e",
   "metadata": {},
   "source": [
    "### Question 43\n",
    "\n",
    "Sort Words in Alphabetic Order"
   ]
  },
  {
   "cell_type": "code",
   "execution_count": 11,
   "id": "78b76e55",
   "metadata": {},
   "outputs": [
    {
     "name": "stdout",
     "output_type": "stream",
     "text": [
      "['apple', 'ball', 'cat', 'dog']\n"
     ]
    }
   ],
   "source": [
    "# Your answer here\n",
    "words = input().split()\n",
    "print(sorted(words))\n"
   ]
  },
  {
   "cell_type": "markdown",
   "id": "edf93e28",
   "metadata": {},
   "source": [
    "### Question 44\n",
    "\n",
    "Illustrate Different Set Operations"
   ]
  },
  {
   "cell_type": "code",
   "execution_count": 19,
   "id": "a637583c",
   "metadata": {},
   "outputs": [
    {
     "name": "stdout",
     "output_type": "stream",
     "text": [
      "{'fortran', 'javascript', 'python', 'ruby', 'java'}\n",
      "{'fortran', 'javascript', 'gorilla', 'python', 'ruby', 'java'}\n"
     ]
    }
   ],
   "source": [
    "# Your answer here\n",
    "s = set({'python','ruby','java','javascript','fortran'})\n",
    "print(s)\n",
    "\n",
    "s.add('gorilla')\n",
    "print(s)\n",
    "\n",
    "# {'fortran', 'javascript', 'python', 'ruby', 'java'}\n",
    "# {'fortran', 'javascript', 'gorilla', 'python', 'ruby', 'java'}\n",
    "# In theory, sets contains values in random order but in reality, it orders on the basis of hash values, so next time order depends on hash values!!\n",
    "\n"
   ]
  },
  {
   "cell_type": "markdown",
   "id": "d93a2dd6",
   "metadata": {},
   "source": [
    "### Question 45\n",
    "\n",
    "Count the Number of Each Vowel"
   ]
  },
  {
   "cell_type": "code",
   "execution_count": 25,
   "id": "7a727859",
   "metadata": {},
   "outputs": [
    {
     "name": "stdout",
     "output_type": "stream",
     "text": [
      "cOUnt thE numbEr Of EAch vOwEl\n",
      "10\n"
     ]
    }
   ],
   "source": [
    "def vowel(name):\n",
    "    words = ['a','e','i','o','u']\n",
    "    count = 0\n",
    "    for i in name.lower():\n",
    "        if i in words:\n",
    "            count += 1\n",
    "    return count\n",
    "name = input()\n",
    "print(name)\n",
    "print(vowel(name))"
   ]
  },
  {
   "cell_type": "markdown",
   "id": "b0805248",
   "metadata": {},
   "source": [
    "### Question 46\n",
    "\n",
    "Merge Mails"
   ]
  },
  {
   "cell_type": "code",
   "execution_count": 32,
   "id": "13c8f952",
   "metadata": {},
   "outputs": [
    {
     "name": "stdout",
     "output_type": "stream",
     "text": [
      "Hi, I hope this message finds you well. and you're doing great.\n",
      "\n",
      "I am applying for your job as stated on your website. Hope I get this!!\n"
     ]
    }
   ],
   "source": [
    "# Your answer here\n",
    "with open('mail1.txt','r') as m1, open('mail2.txt','r') as m2:\n",
    "    m1_content = m1.read()\n",
    "    m2_content = m2.read()\n",
    "    merged = m1_content + '\\n' + m2_content\n",
    "with open('merged.txt','w') as f:\n",
    "    f.write(merged)\n",
    "    print(merged)"
   ]
  },
  {
   "cell_type": "markdown",
   "id": "21e0a6ce",
   "metadata": {},
   "source": [
    "### Question 47\n",
    "\n",
    "Find the Size (Resolution) of an Image"
   ]
  },
  {
   "cell_type": "code",
   "execution_count": 35,
   "id": "d59d76e0",
   "metadata": {},
   "outputs": [
    {
     "name": "stdout",
     "output_type": "stream",
     "text": [
      "1587x798\n"
     ]
    }
   ],
   "source": [
    "# Your answer here\n",
    "from PIL import Image\n",
    "img = Image.open('match.png')\n",
    "wid, ht = img.size\n",
    "print(str(wid) +\"x\" + str(ht))"
   ]
  },
  {
   "cell_type": "markdown",
   "id": "3827a270",
   "metadata": {},
   "source": [
    "### Question 48\n",
    "\n",
    "Find Hash of File"
   ]
  },
  {
   "cell_type": "code",
   "execution_count": 5,
   "id": "fa1fbb5a",
   "metadata": {},
   "outputs": [
    {
     "name": "stdout",
     "output_type": "stream",
     "text": [
      "-6264999868446383707\n"
     ]
    }
   ],
   "source": [
    "# Your answer here\n",
    "name = input()\n",
    "print(str(hash(name)))"
   ]
  },
  {
   "cell_type": "markdown",
   "id": "d9f7d855",
   "metadata": {},
   "source": [
    "### Question 49\n",
    "\n",
    "Create Pyramid Patterns"
   ]
  },
  {
   "cell_type": "code",
   "execution_count": 7,
   "id": "12ec1251",
   "metadata": {},
   "outputs": [
    {
     "name": "stdout",
     "output_type": "stream",
     "text": [
      "         *\n",
      "        ***\n",
      "       *****\n",
      "      *******\n",
      "     *********\n",
      "    ***********\n",
      "   *************\n",
      "  ***************\n",
      " *****************\n",
      "*******************\n"
     ]
    }
   ],
   "source": [
    "# Your answer here\n",
    "def pyramid(n):\n",
    "    for i in range(1, n+1):\n",
    "        for j in range(n-i):\n",
    "            print(\" \", end=\"\")\n",
    "        for k in range(1, 2*i):\n",
    "            print(\"*\",end=\"\")\n",
    "        print()\n",
    "pyramid(10)"
   ]
  },
  {
   "cell_type": "markdown",
   "id": "9e9a0a5b",
   "metadata": {},
   "source": [
    "### Question 50\n",
    "\n",
    "Merge Two Dictionaries"
   ]
  },
  {
   "cell_type": "code",
   "execution_count": 12,
   "id": "058533c5",
   "metadata": {},
   "outputs": [
    {
     "name": "stdout",
     "output_type": "stream",
     "text": [
      "{'m': 1, 'l': 2, 'n': 3, 'k': 4, 'j': 5, 'i': 9}\n"
     ]
    }
   ],
   "source": [
    "# Your answer here\n",
    "def merge_dict(dict1, dict2):\n",
    "    return {**dict1, **dict2}\n",
    "dict1 = {'m':1,'l':2,'n':3}\n",
    "dict2 = {'k':4,'j':5,'i':9}\n",
    "print(merge_dict(dict1, dict2))"
   ]
  },
  {
   "cell_type": "markdown",
   "id": "0610980a",
   "metadata": {},
   "source": [
    "### Question 51\n",
    "\n",
    "Safely Create a Nested Directory"
   ]
  },
  {
   "cell_type": "code",
   "execution_count": 15,
   "id": "f4262265",
   "metadata": {},
   "outputs": [
    {
     "name": "stdout",
     "output_type": "stream",
     "text": [
      "Student Details\n",
      "\n",
      "{'student1': {'name': 'Manish', 'Rollno': 539, 'Grade': 'B'}, 'student2': {'name': 'Krish', 'Rollno': 518, 'Grade': 'A'}, 'student3': {'name': 'Om', 'Rollno': 522, 'Grade': 'A+'}}\n"
     ]
    }
   ],
   "source": [
    "# Your answer here\n",
    "students = {}\n",
    "students['student1'] = {'name':'Manish','Rollno':539,'Grade':'B'}\n",
    "students['student2' ] = {'name':'Krish','Rollno':518,'Grade':'A'}\n",
    "students['student3'] = {'name':'Om','Rollno':522,'Grade':'A+'}\n",
    "print(\"Student Details\\n\")\n",
    "print(students)"
   ]
  },
  {
   "cell_type": "markdown",
   "id": "d92ac045",
   "metadata": {},
   "source": [
    "### Question 52\n",
    "\n",
    "Access Index of a List Using for Loop"
   ]
  },
  {
   "cell_type": "code",
   "execution_count": null,
   "id": "a40163ec",
   "metadata": {},
   "outputs": [
    {
     "name": "stdout",
     "output_type": "stream",
     "text": [
      "10\n",
      "19\n",
      "20\n"
     ]
    }
   ],
   "source": [
    "# Your answer here\n",
    "def access_list(lst):\n",
    "    for i in range(len(lst)):\n",
    "        print(lst[i])\n",
    "lst = input().split()\n",
    "access_list(lst)"
   ]
  },
  {
   "cell_type": "markdown",
   "id": "15318890",
   "metadata": {},
   "source": [
    "### Question 53\n",
    "\n",
    "Flatten a Nested List"
   ]
  },
  {
   "cell_type": "code",
   "execution_count": 20,
   "id": "68e73d78",
   "metadata": {},
   "outputs": [
    {
     "name": "stdout",
     "output_type": "stream",
     "text": [
      "[[11, 22, 33, 44], [55, 66, 77], [88, 99, 100]]\n",
      "-------------\n",
      "[11, 22, 33, 44, 55, 66, 77, 88, 99, 100]\n"
     ]
    }
   ],
   "source": [
    "# Your answer here\n",
    "def flat_list(nested):\n",
    "    flatted_list = []\n",
    "    for element in nested:\n",
    "        if type(element) is list:\n",
    "            for item in element:\n",
    "                flatted_list.append(item)\n",
    "        else:\n",
    "            flatted_list.append(element)\n",
    "    return flatted_list\n",
    "lis = [[11, 22, 33, 44], [55, 66, 77], [88, 99, 100]]\n",
    "print(lis)\n",
    "print(\"-------------\")\n",
    "print(flat_list(lis))\n"
   ]
  },
  {
   "cell_type": "markdown",
   "id": "b5145483",
   "metadata": {},
   "source": [
    "### Question 54\n",
    "\n",
    "Slice Lists"
   ]
  },
  {
   "cell_type": "code",
   "execution_count": 22,
   "id": "1ccacfc1",
   "metadata": {},
   "outputs": [
    {
     "name": "stdout",
     "output_type": "stream",
     "text": [
      "[11, 22]\n",
      "[22, 33, 44, 55, 66]\n",
      "[110, 99, 88, 77, 66, 55, 44, 33, 22, 11]\n"
     ]
    }
   ],
   "source": [
    "# Your answer here\n",
    "def slicing(lst):\n",
    "    print(lst[:2]) # for values upto second index\n",
    "    print(lst[1:6]) # for all values between index 1 and 6(excluding)\n",
    "    print(lst[::-1]) # accessing all values inside list in reverse flow\n",
    "lis = [11, 22, 33, 44, 55, 66, 77, 88, 99, 110]\n",
    "slicing(lis)"
   ]
  },
  {
   "cell_type": "markdown",
   "id": "4f87d8f6",
   "metadata": {},
   "source": [
    "### Question 55\n",
    "\n",
    "Iterate Over Dictionaries Using for Loop"
   ]
  },
  {
   "cell_type": "code",
   "execution_count": 4,
   "id": "fcd5b50d",
   "metadata": {},
   "outputs": [
    {
     "name": "stdout",
     "output_type": "stream",
     "text": [
      "name:Manish\n",
      "Roll:539\n"
     ]
    }
   ],
   "source": [
    "# Your answer here\n",
    "def iterate(dict1):\n",
    "    for key, value in dict1.items():\n",
    "        print(f\"{key}:{value}\")\n",
    "diction = {'name':'Manish','Roll':539}\n",
    "iterate(diction)"
   ]
  },
  {
   "cell_type": "markdown",
   "id": "d587174a",
   "metadata": {},
   "source": [
    "### Question 56\n",
    "\n",
    "Sort a Dictionary by Value"
   ]
  },
  {
   "cell_type": "code",
   "execution_count": 6,
   "id": "e69dbf9a",
   "metadata": {},
   "outputs": [
    {
     "name": "stdout",
     "output_type": "stream",
     "text": [
      "[(3, 'anish'), (100, 'anshul'), (2, 'manish')]\n"
     ]
    }
   ],
   "source": [
    "# Your answer here\n",
    "def sorting_sorted(dic):\n",
    "    return sorted(dic.items(), key=lambda kv: (kv[1], kv[0]))\n",
    "d = {2: 'manish', 100: 'anshul', 3: 'anish'}\n",
    "print(sorting_sorted(d))\n",
    "    "
   ]
  },
  {
   "cell_type": "markdown",
   "id": "e20344e3",
   "metadata": {},
   "source": [
    "### Question 57\n",
    "\n",
    "Check If a List is Empty"
   ]
  },
  {
   "cell_type": "code",
   "execution_count": 12,
   "id": "370981a7",
   "metadata": {},
   "outputs": [
    {
     "name": "stdout",
     "output_type": "stream",
     "text": [
      "list has some values-> [1]\n"
     ]
    }
   ],
   "source": [
    "# Your answer here\n",
    "lst = [1]\n",
    "if not lst:\n",
    "    print(\"list is empty\")\n",
    "else:\n",
    "    print(\"list has some values->\", lst)"
   ]
  },
  {
   "cell_type": "markdown",
   "id": "644c8cae",
   "metadata": {},
   "source": [
    "### Question 58\n",
    "\n",
    "Catch Multiple Exceptions in One Line"
   ]
  },
  {
   "cell_type": "code",
   "execution_count": 14,
   "id": "757ac990",
   "metadata": {},
   "outputs": [
    {
     "name": "stdout",
     "output_type": "stream",
     "text": [
      "Exception occurred: invalid literal for int() with base 10: 'abc'\n"
     ]
    }
   ],
   "source": [
    "# Your answer here\n",
    "try:\n",
    "    # code that may raise exceptions\n",
    "    x = int(\"abc\")\n",
    "    y = 10 / 0\n",
    "except (ValueError, ZeroDivisionError) as e:\n",
    "    print(\"Exception occurred:\", e)\n"
   ]
  },
  {
   "cell_type": "markdown",
   "id": "e1d436eb",
   "metadata": {},
   "source": [
    "### Question 59\n",
    "\n",
    "Copy a File"
   ]
  },
  {
   "cell_type": "code",
   "execution_count": 19,
   "id": "f8a1591c",
   "metadata": {},
   "outputs": [
    {
     "name": "stdout",
     "output_type": "stream",
     "text": [
      "mail1.txt\n",
      "File copied successfully\n"
     ]
    }
   ],
   "source": [
    "# Your answer here\n",
    "file = 'mail1.txt'\n",
    "copied = file[:]\n",
    "print(copied)\n",
    "\n",
    "import shutil\n",
    "shutil.copy(\"mail1.txt\",\"mail1_copy.txt\")\n",
    "print(\"File copied successfully\")\n",
    "\n",
    "\n",
    "# Shutil for copy \n"
   ]
  },
  {
   "cell_type": "markdown",
   "id": "f69c588a",
   "metadata": {},
   "source": [
    "### Question 60\n",
    "\n",
    "Concatenate Two Lists"
   ]
  },
  {
   "cell_type": "code",
   "execution_count": 22,
   "id": "a16b24a4",
   "metadata": {},
   "outputs": [
    {
     "name": "stdout",
     "output_type": "stream",
     "text": [
      "[1, 2, 3, 4, 4, 4, 5, 6, 64, 3]\n",
      "[1, 2, 3, 4, 4, 4, 5, 6, 64, 3]\n"
     ]
    }
   ],
   "source": [
    "# Your answer here\n",
    "def concat(l1, l2):\n",
    "    return l1 + l2\n",
    "lst1 = [1,2,3,4,4]\n",
    "lst2 = [4,5,6,64,3]\n",
    "print(concat(lst1, lst2))\n",
    "\n",
    "def concat_extend(l1, l2):\n",
    "    l1.extend(l2)\n",
    "    return l1\n",
    "print(concat_extend(lst1, lst2))"
   ]
  },
  {
   "cell_type": "markdown",
   "id": "bc9669b6",
   "metadata": {},
   "source": [
    "### Question 61\n",
    "\n",
    "Check if a Key is Already Present in a Dictionary"
   ]
  },
  {
   "cell_type": "code",
   "execution_count": null,
   "id": "524bc29f",
   "metadata": {},
   "outputs": [],
   "source": [
    "# Your answer here\n"
   ]
  },
  {
   "cell_type": "markdown",
   "id": "0c3c3b96",
   "metadata": {},
   "source": [
    "### Question 62\n",
    "\n",
    "Split a List Into Evenly Sized Chunks"
   ]
  },
  {
   "cell_type": "code",
   "execution_count": null,
   "id": "4d19db46",
   "metadata": {},
   "outputs": [],
   "source": [
    "# Your answer here"
   ]
  },
  {
   "cell_type": "markdown",
   "id": "48dfd043",
   "metadata": {},
   "source": [
    "### Question 63\n",
    "\n",
    "Parse a String to a Float or Int"
   ]
  },
  {
   "cell_type": "code",
   "execution_count": null,
   "id": "724a2cc3",
   "metadata": {},
   "outputs": [],
   "source": [
    "# Your answer here"
   ]
  },
  {
   "cell_type": "markdown",
   "id": "d993020f",
   "metadata": {},
   "source": [
    "### Question 64\n",
    "\n",
    "Print Colored Text to the Terminal"
   ]
  },
  {
   "cell_type": "code",
   "execution_count": null,
   "id": "d0da240a",
   "metadata": {},
   "outputs": [],
   "source": [
    "# Your answer here"
   ]
  },
  {
   "cell_type": "markdown",
   "id": "456d83e2",
   "metadata": {},
   "source": [
    "### Question 65\n",
    "\n",
    "Convert String to Datetime"
   ]
  },
  {
   "cell_type": "code",
   "execution_count": null,
   "id": "3a258856",
   "metadata": {},
   "outputs": [],
   "source": [
    "# Your answer here"
   ]
  },
  {
   "cell_type": "markdown",
   "id": "addbb2fa",
   "metadata": {},
   "source": [
    "### Question 66\n",
    "\n",
    "Generate a Random Number"
   ]
  },
  {
   "cell_type": "code",
   "execution_count": 26,
   "id": "35041fd5",
   "metadata": {},
   "outputs": [
    {
     "name": "stdout",
     "output_type": "stream",
     "text": [
      "0.7803229192308346\n"
     ]
    }
   ],
   "source": [
    "# Your answer here\n",
    "import random\n",
    "print(random.random())"
   ]
  },
  {
   "cell_type": "markdown",
   "id": "c622fadf",
   "metadata": {},
   "source": [
    "### Question 67\n",
    "\n",
    "Get the Last Element of the List"
   ]
  },
  {
   "cell_type": "code",
   "execution_count": 27,
   "id": "508bd784",
   "metadata": {},
   "outputs": [
    {
     "name": "stdout",
     "output_type": "stream",
     "text": [
      "4\n"
     ]
    }
   ],
   "source": [
    "# Your answer here\n",
    "def last_element(lst):\n",
    "    return lst[-1]\n",
    "lst = [1,2,3,4]\n",
    "print(last_element(lst))"
   ]
  },
  {
   "cell_type": "markdown",
   "id": "ae345f67",
   "metadata": {},
   "source": [
    "### Question 68\n",
    "\n",
    "Get a Substring of a String"
   ]
  },
  {
   "cell_type": "code",
   "execution_count": null,
   "id": "eb6c8ae7",
   "metadata": {},
   "outputs": [],
   "source": [
    "# Your answer here"
   ]
  },
  {
   "cell_type": "markdown",
   "id": "ab92d6e5",
   "metadata": {},
   "source": [
    "### Question 69\n",
    "\n",
    "Print Output Without a Newline"
   ]
  },
  {
   "cell_type": "code",
   "execution_count": null,
   "id": "f96f4cc3",
   "metadata": {},
   "outputs": [],
   "source": [
    "# Your answer here"
   ]
  },
  {
   "cell_type": "markdown",
   "id": "9d7fd19e",
   "metadata": {},
   "source": [
    "### Question 70\n",
    "\n",
    "read a File Line by Line Into a List"
   ]
  },
  {
   "cell_type": "code",
   "execution_count": null,
   "id": "8801c3d3",
   "metadata": {},
   "outputs": [],
   "source": [
    "# Your answer here"
   ]
  },
  {
   "cell_type": "markdown",
   "id": "25a710d6",
   "metadata": {},
   "source": [
    "### Question 71\n",
    "\n",
    "Randomly Select an Element From the List"
   ]
  },
  {
   "cell_type": "code",
   "execution_count": null,
   "id": "6d0af88a",
   "metadata": {},
   "outputs": [],
   "source": [
    "# Your answer here"
   ]
  },
  {
   "cell_type": "markdown",
   "id": "0da03544",
   "metadata": {},
   "source": [
    "### Question 72\n",
    "\n",
    "Check If a String Is a Number (Float)"
   ]
  },
  {
   "cell_type": "code",
   "execution_count": null,
   "id": "e239fe75",
   "metadata": {},
   "outputs": [],
   "source": [
    "# Your answer here"
   ]
  },
  {
   "cell_type": "markdown",
   "id": "078fd82f",
   "metadata": {},
   "source": [
    "### Question 73\n",
    "\n",
    "Count the Occurrence of an Item in a List"
   ]
  },
  {
   "cell_type": "code",
   "execution_count": null,
   "id": "50b5b95c",
   "metadata": {},
   "outputs": [],
   "source": [
    "# Your answer here"
   ]
  },
  {
   "cell_type": "markdown",
   "id": "cc7f8565",
   "metadata": {},
   "source": [
    "### Question 74\n",
    "\n",
    "Append to a File"
   ]
  },
  {
   "cell_type": "code",
   "execution_count": null,
   "id": "04070b2e",
   "metadata": {},
   "outputs": [],
   "source": [
    "# Your answer here"
   ]
  },
  {
   "cell_type": "markdown",
   "id": "85deb3a6",
   "metadata": {},
   "source": [
    "### Question 75\n",
    "\n",
    "Delete an Element From a Dictionary"
   ]
  },
  {
   "cell_type": "code",
   "execution_count": null,
   "id": "5ce29ba7",
   "metadata": {},
   "outputs": [],
   "source": [
    "# Your answer here"
   ]
  },
  {
   "cell_type": "markdown",
   "id": "127f78d4",
   "metadata": {},
   "source": [
    "### Question 76\n",
    "\n",
    "Create a Long Multiline String"
   ]
  },
  {
   "cell_type": "code",
   "execution_count": null,
   "id": "ab553407",
   "metadata": {},
   "outputs": [],
   "source": [
    "# Your answer here"
   ]
  },
  {
   "cell_type": "markdown",
   "id": "6ab04e67",
   "metadata": {},
   "source": [
    "### Question 77\n",
    "\n",
    "Extract Extension From the File Name"
   ]
  },
  {
   "cell_type": "code",
   "execution_count": null,
   "id": "7d48309a",
   "metadata": {},
   "outputs": [],
   "source": [
    "# Your answer here"
   ]
  },
  {
   "cell_type": "markdown",
   "id": "4f2b6472",
   "metadata": {},
   "source": [
    "### Question 78\n",
    "\n",
    "Measure the Elapsed Time in Python"
   ]
  },
  {
   "cell_type": "code",
   "execution_count": null,
   "id": "1e65643c",
   "metadata": {},
   "outputs": [],
   "source": [
    "# Your answer here"
   ]
  },
  {
   "cell_type": "markdown",
   "id": "5bc21add",
   "metadata": {},
   "source": [
    "### Question 79\n",
    "\n",
    "Get the Class Name of an Instance"
   ]
  },
  {
   "cell_type": "code",
   "execution_count": null,
   "id": "51b28036",
   "metadata": {},
   "outputs": [],
   "source": [
    "# Your answer here"
   ]
  },
  {
   "cell_type": "markdown",
   "id": "4ef28ea3",
   "metadata": {},
   "source": [
    "### Question 80\n",
    "\n",
    "Convert Two Lists Into a Dictionary"
   ]
  },
  {
   "cell_type": "code",
   "execution_count": null,
   "id": "9a7be539",
   "metadata": {},
   "outputs": [],
   "source": [
    "# Your answer here"
   ]
  },
  {
   "cell_type": "markdown",
   "id": "b63e60da",
   "metadata": {},
   "source": [
    "### Question 81\n",
    "\n",
    "Differentiate Between type() and isinstance()"
   ]
  },
  {
   "cell_type": "code",
   "execution_count": null,
   "id": "ca24261f",
   "metadata": {},
   "outputs": [],
   "source": [
    "# Your answer here"
   ]
  },
  {
   "cell_type": "markdown",
   "id": "3088a88d",
   "metadata": {},
   "source": [
    "### Question 82\n",
    "\n",
    "Trim Whitespace From a String"
   ]
  },
  {
   "cell_type": "code",
   "execution_count": null,
   "id": "e4a13624",
   "metadata": {},
   "outputs": [],
   "source": [
    "# Your answer here"
   ]
  },
  {
   "cell_type": "markdown",
   "id": "520a31b4",
   "metadata": {},
   "source": [
    "### Question 83\n",
    "\n",
    "Get the File Name From the File Path"
   ]
  },
  {
   "cell_type": "code",
   "execution_count": null,
   "id": "b5a6e778",
   "metadata": {},
   "outputs": [],
   "source": [
    "# Your answer here\n"
   ]
  },
  {
   "cell_type": "markdown",
   "id": "4bdc11d1",
   "metadata": {},
   "source": [
    "### Question 84\n",
    "\n",
    "Represent enum"
   ]
  },
  {
   "cell_type": "code",
   "execution_count": null,
   "id": "dfc35c2e",
   "metadata": {},
   "outputs": [],
   "source": [
    "# Your answer here"
   ]
  },
  {
   "cell_type": "markdown",
   "id": "b8fae4d2",
   "metadata": {},
   "source": [
    "### Question 85\n",
    "\n",
    "Return Multiple Values From a Function"
   ]
  },
  {
   "cell_type": "code",
   "execution_count": null,
   "id": "7fb37d35",
   "metadata": {},
   "outputs": [],
   "source": [
    "# Your answer here"
   ]
  },
  {
   "cell_type": "markdown",
   "id": "0d0b6d2a",
   "metadata": {},
   "source": [
    "### Question 86\n",
    "\n",
    "Get Line Count of a File"
   ]
  },
  {
   "cell_type": "code",
   "execution_count": null,
   "id": "72f34758",
   "metadata": {},
   "outputs": [],
   "source": [
    "# Your answer here"
   ]
  },
  {
   "cell_type": "markdown",
   "id": "950ace7e",
   "metadata": {},
   "source": [
    "### Question 87\n",
    "\n",
    "Find All File with .txt Extension Present Inside a Directory"
   ]
  },
  {
   "cell_type": "code",
   "execution_count": null,
   "id": "05b76bb7",
   "metadata": {},
   "outputs": [],
   "source": [
    "# Your answer here"
   ]
  },
  {
   "cell_type": "markdown",
   "id": "94ff479a",
   "metadata": {},
   "source": [
    "### Question 88\n",
    "\n",
    "Get File Creation and Modification Date"
   ]
  },
  {
   "cell_type": "code",
   "execution_count": null,
   "id": "f380fa3e",
   "metadata": {},
   "outputs": [],
   "source": [
    "# Your answer here"
   ]
  },
  {
   "cell_type": "markdown",
   "id": "cef8cdd1",
   "metadata": {},
   "source": [
    "### Question 89\n",
    "\n",
    "Get the Full Path of the Current Working Directory"
   ]
  },
  {
   "cell_type": "code",
   "execution_count": null,
   "id": "71f1a5f4",
   "metadata": {},
   "outputs": [],
   "source": [
    "# Your answer here"
   ]
  },
  {
   "cell_type": "markdown",
   "id": "9fa0aed7",
   "metadata": {},
   "source": [
    "### Question 90\n",
    "\n",
    "Iterate Through Two Lists in Parallel"
   ]
  },
  {
   "cell_type": "code",
   "execution_count": null,
   "id": "b173bda3",
   "metadata": {},
   "outputs": [],
   "source": [
    "# Your answer here"
   ]
  },
  {
   "cell_type": "markdown",
   "id": "62579d10",
   "metadata": {},
   "source": [
    "### Question 91\n",
    "\n",
    "Check the File Size"
   ]
  },
  {
   "cell_type": "code",
   "execution_count": null,
   "id": "2ce03b5c",
   "metadata": {},
   "outputs": [],
   "source": [
    "# Your answer here"
   ]
  },
  {
   "cell_type": "markdown",
   "id": "6c40eb63",
   "metadata": {},
   "source": [
    "### Question 92\n",
    "\n",
    "Compute the Power of a Number"
   ]
  },
  {
   "cell_type": "code",
   "execution_count": null,
   "id": "f95295e3",
   "metadata": {},
   "outputs": [],
   "source": [
    "# Your answer here"
   ]
  },
  {
   "cell_type": "markdown",
   "id": "22179a0b",
   "metadata": {},
   "source": [
    "### Question 93\n",
    "\n",
    "Count the Number of Digits Present In a Number"
   ]
  },
  {
   "cell_type": "code",
   "execution_count": null,
   "id": "e69d047c",
   "metadata": {},
   "outputs": [],
   "source": [
    "# Your answer here"
   ]
  },
  {
   "cell_type": "markdown",
   "id": "499fda53",
   "metadata": {},
   "source": [
    "### Question 94\n",
    "\n",
    "Check If Two Strings are Anagram"
   ]
  },
  {
   "cell_type": "code",
   "execution_count": null,
   "id": "a58302b9",
   "metadata": {},
   "outputs": [],
   "source": [
    "# Your answer here"
   ]
  },
  {
   "cell_type": "markdown",
   "id": "99b0ce0d",
   "metadata": {},
   "source": [
    "### Question 95\n",
    "\n",
    "Capitalize the First Character of a String"
   ]
  },
  {
   "cell_type": "code",
   "execution_count": null,
   "id": "d7ae8f56",
   "metadata": {},
   "outputs": [],
   "source": [
    "# Your answer here"
   ]
  },
  {
   "cell_type": "markdown",
   "id": "6e14e7a2",
   "metadata": {},
   "source": [
    "### Question 96\n",
    "\n",
    "Compute all the Permutation of the String"
   ]
  },
  {
   "cell_type": "code",
   "execution_count": null,
   "id": "9e403867",
   "metadata": {},
   "outputs": [],
   "source": [
    "# Your answer here"
   ]
  },
  {
   "cell_type": "markdown",
   "id": "6f4c23d1",
   "metadata": {},
   "source": [
    "### Question 97\n",
    "\n",
    "Create a Countdown Timer"
   ]
  },
  {
   "cell_type": "code",
   "execution_count": null,
   "id": "7b0ae7be",
   "metadata": {},
   "outputs": [],
   "source": [
    "# Your answer here"
   ]
  },
  {
   "cell_type": "markdown",
   "id": "5d796af1",
   "metadata": {},
   "source": [
    "### Question 98\n",
    "\n",
    "Count the Number of Occurrence of a Character in String"
   ]
  },
  {
   "cell_type": "code",
   "execution_count": 8,
   "id": "7ac33708",
   "metadata": {},
   "outputs": [],
   "source": [
    "# Your answer here"
   ]
  },
  {
   "cell_type": "markdown",
   "id": "011b080b",
   "metadata": {},
   "source": [
    "### Question 99\n",
    "\n",
    "Remove Duplicate Element From a List"
   ]
  },
  {
   "cell_type": "code",
   "execution_count": 10,
   "id": "edb3d546",
   "metadata": {},
   "outputs": [],
   "source": [
    "# Your answer here"
   ]
  }
 ],
 "metadata": {
  "kernelspec": {
   "display_name": "Python 3",
   "language": "python",
   "name": "python3"
  },
  "language_info": {
   "codemirror_mode": {
    "name": "ipython",
    "version": 3
   },
   "file_extension": ".py",
   "mimetype": "text/x-python",
   "name": "python",
   "nbconvert_exporter": "python",
   "pygments_lexer": "ipython3",
   "version": "3.13.2"
  }
 },
 "nbformat": 4,
 "nbformat_minor": 5
}
