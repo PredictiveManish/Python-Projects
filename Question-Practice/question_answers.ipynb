{
 "cells": [
  {
   "cell_type": "markdown",
   "id": "bb198c07",
   "metadata": {},
   "source": [
    "### Question 1\n",
    "\n",
    "Add Two Numbers"
   ]
  },
  {
   "cell_type": "code",
   "execution_count": null,
   "id": "3b46be26",
   "metadata": {},
   "outputs": [],
   "source": [
    "# Your answer here"
   ]
  },
  {
   "cell_type": "markdown",
   "id": "59a27ec7",
   "metadata": {},
   "source": [
    "### Question 2\n",
    "\n",
    "Find the Square Root"
   ]
  },
  {
   "cell_type": "code",
   "execution_count": null,
   "id": "10978377",
   "metadata": {},
   "outputs": [],
   "source": [
    "# Your answer here"
   ]
  },
  {
   "cell_type": "markdown",
   "id": "cf5d9492",
   "metadata": {},
   "source": [
    "### Question 3\n",
    "\n",
    "Calculate the Area of a Triangle (Take input Base and Height)"
   ]
  },
  {
   "cell_type": "code",
   "execution_count": null,
   "id": "99c2e882",
   "metadata": {},
   "outputs": [],
   "source": [
    "# Your answer here"
   ]
  },
  {
   "cell_type": "markdown",
   "id": "c5aa9f80",
   "metadata": {},
   "source": [
    "### Question 4\n",
    "\n",
    "Solve Quadratic Equation"
   ]
  },
  {
   "cell_type": "code",
   "execution_count": null,
   "id": "acad1e9b",
   "metadata": {},
   "outputs": [],
   "source": [
    "# Your answer here"
   ]
  },
  {
   "cell_type": "markdown",
   "id": "d8477211",
   "metadata": {},
   "source": [
    "### Question 5\n",
    "\n",
    "Swap Two Variables (Take two numbers swap it)"
   ]
  },
  {
   "cell_type": "code",
   "execution_count": null,
   "id": "9b15b6f2",
   "metadata": {},
   "outputs": [],
   "source": [
    "# Your answer here"
   ]
  },
  {
   "cell_type": "markdown",
   "id": "a2be54a2",
   "metadata": {},
   "source": [
    "### Question 6\n",
    "\n",
    "Convert Kilometers to Miles (Take input km)"
   ]
  },
  {
   "cell_type": "code",
   "execution_count": null,
   "id": "f1afa410",
   "metadata": {},
   "outputs": [],
   "source": [
    "# Your answer here"
   ]
  },
  {
   "cell_type": "markdown",
   "id": "ad612809",
   "metadata": {},
   "source": [
    "### Question 7\n",
    "\n",
    "Convert Celsius To Fahrenheit (Take input in Celsius)"
   ]
  },
  {
   "cell_type": "code",
   "execution_count": null,
   "id": "09fdc32d",
   "metadata": {},
   "outputs": [],
   "source": [
    "# Your answer here"
   ]
  },
  {
   "cell_type": "markdown",
   "id": "a255f60a",
   "metadata": {},
   "source": [
    "### Question 8\n",
    "\n",
    "Check if a Number is Positive, Negative or 0"
   ]
  },
  {
   "cell_type": "code",
   "execution_count": null,
   "id": "0ee2bf09",
   "metadata": {},
   "outputs": [],
   "source": [
    "# Your answer here"
   ]
  },
  {
   "cell_type": "markdown",
   "id": "6c36e912",
   "metadata": {},
   "source": [
    "### Question 9\n",
    "\n",
    "Check if a Number is Odd or Even"
   ]
  },
  {
   "cell_type": "code",
   "execution_count": null,
   "id": "09a54640",
   "metadata": {},
   "outputs": [],
   "source": [
    "# Your answer here"
   ]
  },
  {
   "cell_type": "markdown",
   "id": "b6d989df",
   "metadata": {},
   "source": [
    "### Question 10\n",
    "\n",
    "Check Leap Year"
   ]
  },
  {
   "cell_type": "code",
   "execution_count": null,
   "id": "9dced0f5",
   "metadata": {},
   "outputs": [],
   "source": [
    "# Your answer here"
   ]
  },
  {
   "cell_type": "markdown",
   "id": "93ba722b",
   "metadata": {},
   "source": [
    "### Question 11\n",
    "\n",
    "Find the Largest Among Three Numbers (Take 3 numbers as a input)"
   ]
  },
  {
   "cell_type": "code",
   "execution_count": null,
   "id": "c86e250c",
   "metadata": {},
   "outputs": [],
   "source": [
    "# Your answer here"
   ]
  },
  {
   "cell_type": "markdown",
   "id": "9092cfb7",
   "metadata": {},
   "source": [
    "### Question 12\n",
    "\n",
    "Second Largest among three number(take input three number)"
   ]
  },
  {
   "cell_type": "code",
   "execution_count": null,
   "id": "16438d47",
   "metadata": {},
   "outputs": [],
   "source": [
    "# Your answer here"
   ]
  },
  {
   "cell_type": "markdown",
   "id": "017b607a",
   "metadata": {},
   "source": [
    "### Question 13\n",
    "\n",
    "Display the multiplication Table ex - (2 *1 = 2)"
   ]
  },
  {
   "cell_type": "code",
   "execution_count": null,
   "id": "fdc474c9",
   "metadata": {},
   "outputs": [],
   "source": [
    "# Your answer here"
   ]
  },
  {
   "cell_type": "markdown",
   "id": "09f56b1b",
   "metadata": {},
   "source": [
    "### Question 14\n",
    "\n",
    "Find the Factorial of a Number"
   ]
  },
  {
   "cell_type": "code",
   "execution_count": null,
   "id": "11516e20",
   "metadata": {},
   "outputs": [],
   "source": [
    "# Your answer here"
   ]
  },
  {
   "cell_type": "markdown",
   "id": "67154615",
   "metadata": {},
   "source": [
    "### Question 15\n",
    "\n",
    "Perfect Square"
   ]
  },
  {
   "cell_type": "code",
   "execution_count": null,
   "id": "7ceb00ad",
   "metadata": {},
   "outputs": [],
   "source": [
    "# Your answer here"
   ]
  },
  {
   "cell_type": "markdown",
   "id": "4d3eaab9",
   "metadata": {},
   "source": [
    "### Question 16\n",
    "\n",
    "Check Prime Number (Take one number check it number is prime or not)"
   ]
  },
  {
   "cell_type": "code",
   "execution_count": null,
   "id": "f74b35c2",
   "metadata": {},
   "outputs": [],
   "source": [
    "# Your answer here"
   ]
  },
  {
   "cell_type": "markdown",
   "id": "59b82c54",
   "metadata": {},
   "source": [
    "### Question 17\n",
    "\n",
    "Find the Sum of Natural Numbers"
   ]
  },
  {
   "cell_type": "code",
   "execution_count": null,
   "id": "459413fe",
   "metadata": {},
   "outputs": [],
   "source": [
    "# Your answer here"
   ]
  },
  {
   "cell_type": "markdown",
   "id": "9d31299e",
   "metadata": {},
   "source": [
    "### Question 18\n",
    "\n",
    "Find the Factors of a Number"
   ]
  },
  {
   "cell_type": "code",
   "execution_count": null,
   "id": "f4043610",
   "metadata": {},
   "outputs": [],
   "source": [
    "# Your answer here"
   ]
  },
  {
   "cell_type": "markdown",
   "id": "7e51315b",
   "metadata": {},
   "source": [
    "### Question 19\n",
    "\n",
    "Check Whether a Number is Palindrome or Not"
   ]
  },
  {
   "cell_type": "code",
   "execution_count": null,
   "id": "82ca4ef7",
   "metadata": {},
   "outputs": [],
   "source": [
    "# Your answer here"
   ]
  },
  {
   "cell_type": "markdown",
   "id": "7295cdfd",
   "metadata": {},
   "source": [
    "### Question 20\n",
    "\n",
    "Print the Fibonacci sequence (Display till number input)"
   ]
  },
  {
   "cell_type": "code",
   "execution_count": null,
   "id": "06244eb6",
   "metadata": {},
   "outputs": [],
   "source": [
    "# Your answer here"
   ]
  },
  {
   "cell_type": "markdown",
   "id": "2c073227",
   "metadata": {},
   "source": [
    "### Question 21\n",
    "\n",
    "Check Armstrong Number"
   ]
  },
  {
   "cell_type": "code",
   "execution_count": null,
   "id": "45ff82ef",
   "metadata": {},
   "outputs": [],
   "source": [
    "# Your answer here"
   ]
  },
  {
   "cell_type": "markdown",
   "id": "74528df9",
   "metadata": {},
   "source": [
    "### Question 22\n",
    "\n",
    "Reverse a Number"
   ]
  },
  {
   "cell_type": "code",
   "execution_count": null,
   "id": "c989cd9d",
   "metadata": {},
   "outputs": [],
   "source": [
    "# Your answer here"
   ]
  },
  {
   "cell_type": "markdown",
   "id": "9722a4b6",
   "metadata": {},
   "source": [
    "### Question 23\n",
    "\n",
    "Find HCF or GCD"
   ]
  },
  {
   "cell_type": "code",
   "execution_count": null,
   "id": "7f16770a",
   "metadata": {},
   "outputs": [],
   "source": [
    "# Your answer here"
   ]
  },
  {
   "cell_type": "markdown",
   "id": "96ea2d4a",
   "metadata": {},
   "source": [
    "### Question 24\n",
    "\n",
    "Find LCM"
   ]
  },
  {
   "cell_type": "code",
   "execution_count": null,
   "id": "dd487e7a",
   "metadata": {},
   "outputs": [],
   "source": [
    "# Your answer here"
   ]
  },
  {
   "cell_type": "markdown",
   "id": "c76f29da",
   "metadata": {},
   "source": [
    "### Question 25\n",
    "\n",
    "Print all Prime Numbers in an Interval"
   ]
  },
  {
   "cell_type": "code",
   "execution_count": null,
   "id": "dfd052bb",
   "metadata": {},
   "outputs": [],
   "source": [
    "# Your answer here"
   ]
  },
  {
   "cell_type": "markdown",
   "id": "ead8fc92",
   "metadata": {},
   "source": [
    "### Question 26\n",
    "\n",
    "Find Armstrong Number in an Interval"
   ]
  },
  {
   "cell_type": "code",
   "execution_count": null,
   "id": "295a2af9",
   "metadata": {},
   "outputs": [],
   "source": [
    "# Your answer here"
   ]
  },
  {
   "cell_type": "markdown",
   "id": "bec12388",
   "metadata": {},
   "source": [
    "### Question 27\n",
    "\n",
    "Display Powers of 2 Using Anonymous Function"
   ]
  },
  {
   "cell_type": "code",
   "execution_count": null,
   "id": "b3dcbe30",
   "metadata": {},
   "outputs": [],
   "source": [
    "# Your answer here"
   ]
  },
  {
   "cell_type": "markdown",
   "id": "41a2066b",
   "metadata": {},
   "source": [
    "### Question 28\n",
    "\n",
    "Find Numbers Divisible by Another Number"
   ]
  },
  {
   "cell_type": "code",
   "execution_count": null,
   "id": "3dfd9a60",
   "metadata": {},
   "outputs": [],
   "source": [
    "# Your answer here"
   ]
  },
  {
   "cell_type": "markdown",
   "id": "9be2110a",
   "metadata": {},
   "source": [
    "### Question 29\n",
    "\n",
    "Convert Decimal to Binary, Octal and Hexadecimal"
   ]
  },
  {
   "cell_type": "code",
   "execution_count": null,
   "id": "556c90a6",
   "metadata": {},
   "outputs": [],
   "source": [
    "# Your answer here"
   ]
  },
  {
   "cell_type": "markdown",
   "id": "47069b45",
   "metadata": {},
   "source": [
    "### Question 30\n",
    "\n",
    "Find ASCII Value of Character"
   ]
  },
  {
   "cell_type": "code",
   "execution_count": null,
   "id": "75f36a96",
   "metadata": {},
   "outputs": [],
   "source": [
    "# Your answer here"
   ]
  },
  {
   "cell_type": "markdown",
   "id": "0f6790e7",
   "metadata": {},
   "source": [
    "### Question 31\n",
    "\n",
    "Make a Simple Calculator"
   ]
  },
  {
   "cell_type": "code",
   "execution_count": null,
   "id": "085a2a33",
   "metadata": {},
   "outputs": [],
   "source": [
    "# Your answer here"
   ]
  },
  {
   "cell_type": "markdown",
   "id": "d2b93cd2",
   "metadata": {},
   "source": [
    "### Question 32\n",
    "\n",
    "Shuffle Deck of Cards"
   ]
  },
  {
   "cell_type": "code",
   "execution_count": null,
   "id": "3638ddb6",
   "metadata": {},
   "outputs": [],
   "source": [
    "# Your answer here"
   ]
  },
  {
   "cell_type": "markdown",
   "id": "9dfd7ca9",
   "metadata": {},
   "source": [
    "### Question 33\n",
    "\n",
    "Display Calendar"
   ]
  },
  {
   "cell_type": "code",
   "execution_count": null,
   "id": "5db11b26",
   "metadata": {},
   "outputs": [],
   "source": [
    "# Your answer here"
   ]
  },
  {
   "cell_type": "markdown",
   "id": "596cb5dd",
   "metadata": {},
   "source": [
    "### Question 34\n",
    "\n",
    "Display Fibonacci Sequence Using Recursion"
   ]
  },
  {
   "cell_type": "code",
   "execution_count": null,
   "id": "ed8a47b1",
   "metadata": {},
   "outputs": [],
   "source": [
    "# Your answer here"
   ]
  },
  {
   "cell_type": "markdown",
   "id": "c57e6170",
   "metadata": {},
   "source": [
    "### Question 35\n",
    "\n",
    "Find Sum of Natural Numbers Using Recursion"
   ]
  },
  {
   "cell_type": "code",
   "execution_count": null,
   "id": "f5904915",
   "metadata": {},
   "outputs": [],
   "source": [
    "# Your answer here"
   ]
  },
  {
   "cell_type": "markdown",
   "id": "322a317a",
   "metadata": {},
   "source": [
    "### Question 36\n",
    "\n",
    "Find Factorial of Number Using Recursion"
   ]
  },
  {
   "cell_type": "code",
   "execution_count": null,
   "id": "fa7c6293",
   "metadata": {},
   "outputs": [],
   "source": [
    "# Your answer here"
   ]
  },
  {
   "cell_type": "markdown",
   "id": "a8d00e9e",
   "metadata": {},
   "source": [
    "### Question 37\n",
    "\n",
    "Convert Decimal to Binary Using Recursion"
   ]
  },
  {
   "cell_type": "code",
   "execution_count": null,
   "id": "198143d4",
   "metadata": {},
   "outputs": [],
   "source": [
    "# Your answer here"
   ]
  },
  {
   "cell_type": "markdown",
   "id": "bb9f011f",
   "metadata": {},
   "source": [
    "### Question 38\n",
    "\n",
    "Add Two Matrices"
   ]
  },
  {
   "cell_type": "code",
   "execution_count": null,
   "id": "d04467a0",
   "metadata": {},
   "outputs": [],
   "source": [
    "# Your answer here"
   ]
  },
  {
   "cell_type": "markdown",
   "id": "d0c6dd2f",
   "metadata": {},
   "source": [
    "### Question 39\n",
    "\n",
    "Transpose a Matrix"
   ]
  },
  {
   "cell_type": "code",
   "execution_count": null,
   "id": "d2e12538",
   "metadata": {},
   "outputs": [],
   "source": [
    "# Your answer here"
   ]
  },
  {
   "cell_type": "markdown",
   "id": "e80421bb",
   "metadata": {},
   "source": [
    "### Question 40\n",
    "\n",
    "Multiply Two Matrices"
   ]
  },
  {
   "cell_type": "code",
   "execution_count": null,
   "id": "fd6ef795",
   "metadata": {},
   "outputs": [],
   "source": [
    "# Your answer here"
   ]
  },
  {
   "cell_type": "markdown",
   "id": "bd919a61",
   "metadata": {},
   "source": [
    "### Question 41\n",
    "\n",
    "Check Whether a String is Palindrome or Not"
   ]
  },
  {
   "cell_type": "code",
   "execution_count": null,
   "id": "0b0b70d6",
   "metadata": {},
   "outputs": [],
   "source": [
    "# Your answer here"
   ]
  },
  {
   "cell_type": "markdown",
   "id": "482b4ce6",
   "metadata": {},
   "source": [
    "### Question 42\n",
    "\n",
    "Remove Punctuations From a String"
   ]
  },
  {
   "cell_type": "code",
   "execution_count": null,
   "id": "43c84d88",
   "metadata": {},
   "outputs": [],
   "source": [
    "# Your answer here"
   ]
  },
  {
   "cell_type": "markdown",
   "id": "26ab7fae",
   "metadata": {},
   "source": [
    "### Question 43\n",
    "\n",
    "Sort Words in Alphabetic Order"
   ]
  },
  {
   "cell_type": "code",
   "execution_count": null,
   "id": "8741821b",
   "metadata": {},
   "outputs": [],
   "source": [
    "# Your answer here"
   ]
  },
  {
   "cell_type": "markdown",
   "id": "d608b815",
   "metadata": {},
   "source": [
    "### Question 44\n",
    "\n",
    "Illustrate Different Set Operations"
   ]
  },
  {
   "cell_type": "code",
   "execution_count": null,
   "id": "8818f4f8",
   "metadata": {},
   "outputs": [],
   "source": [
    "# Your answer here"
   ]
  },
  {
   "cell_type": "markdown",
   "id": "e963610f",
   "metadata": {},
   "source": [
    "### Question 45\n",
    "\n",
    "Count the Number of Each Vowel"
   ]
  },
  {
   "cell_type": "code",
   "execution_count": null,
   "id": "2281d7c1",
   "metadata": {},
   "outputs": [],
   "source": [
    "# Your answer here"
   ]
  },
  {
   "cell_type": "markdown",
   "id": "0b1f0a0f",
   "metadata": {},
   "source": [
    "### Question 46\n",
    "\n",
    "Merge Mails"
   ]
  },
  {
   "cell_type": "code",
   "execution_count": null,
   "id": "dd248d49",
   "metadata": {},
   "outputs": [],
   "source": [
    "# Your answer here"
   ]
  },
  {
   "cell_type": "markdown",
   "id": "ca30c643",
   "metadata": {},
   "source": [
    "### Question 47\n",
    "\n",
    "Find the Size (Resolution) of an Image"
   ]
  },
  {
   "cell_type": "code",
   "execution_count": null,
   "id": "8267e93f",
   "metadata": {},
   "outputs": [],
   "source": [
    "# Your answer here"
   ]
  },
  {
   "cell_type": "markdown",
   "id": "576b4415",
   "metadata": {},
   "source": [
    "### Question 48\n",
    "\n",
    "Find Hash of File"
   ]
  },
  {
   "cell_type": "code",
   "execution_count": null,
   "id": "92c9d942",
   "metadata": {},
   "outputs": [],
   "source": [
    "# Your answer here"
   ]
  },
  {
   "cell_type": "markdown",
   "id": "6622e74c",
   "metadata": {},
   "source": [
    "### Question 49\n",
    "\n",
    "Create Pyramid Patterns"
   ]
  },
  {
   "cell_type": "code",
   "execution_count": null,
   "id": "9b56059b",
   "metadata": {},
   "outputs": [],
   "source": [
    "# Your answer here"
   ]
  },
  {
   "cell_type": "markdown",
   "id": "7de73c52",
   "metadata": {},
   "source": [
    "### Question 50\n",
    "\n",
    "Merge Two Dictionaries"
   ]
  },
  {
   "cell_type": "code",
   "execution_count": null,
   "id": "a75ba763",
   "metadata": {},
   "outputs": [],
   "source": [
    "# Your answer here"
   ]
  },
  {
   "cell_type": "markdown",
   "id": "8b2ede39",
   "metadata": {},
   "source": [
    "### Question 51\n",
    "\n",
    "Safely Create a Nested Directory"
   ]
  },
  {
   "cell_type": "code",
   "execution_count": null,
   "id": "7428a017",
   "metadata": {},
   "outputs": [],
   "source": [
    "# Your answer here"
   ]
  },
  {
   "cell_type": "markdown",
   "id": "e6e07410",
   "metadata": {},
   "source": [
    "### Question 52\n",
    "\n",
    "Access Index of a List Using for Loop"
   ]
  },
  {
   "cell_type": "code",
   "execution_count": null,
   "id": "d5d9d163",
   "metadata": {},
   "outputs": [],
   "source": [
    "# Your answer here"
   ]
  },
  {
   "cell_type": "markdown",
   "id": "ec24cf3e",
   "metadata": {},
   "source": [
    "### Question 53\n",
    "\n",
    "Flatten a Nested List"
   ]
  },
  {
   "cell_type": "code",
   "execution_count": null,
   "id": "27965899",
   "metadata": {},
   "outputs": [],
   "source": [
    "# Your answer here"
   ]
  },
  {
   "cell_type": "markdown",
   "id": "4c4a5391",
   "metadata": {},
   "source": [
    "### Question 54\n",
    "\n",
    "Slice Lists"
   ]
  },
  {
   "cell_type": "code",
   "execution_count": null,
   "id": "a969bc2e",
   "metadata": {},
   "outputs": [],
   "source": [
    "# Your answer here"
   ]
  },
  {
   "cell_type": "markdown",
   "id": "2993a7a1",
   "metadata": {},
   "source": [
    "### Question 55\n",
    "\n",
    "Iterate Over Dictionaries Using for Loop"
   ]
  },
  {
   "cell_type": "code",
   "execution_count": null,
   "id": "a15be70a",
   "metadata": {},
   "outputs": [],
   "source": [
    "# Your answer here"
   ]
  },
  {
   "cell_type": "markdown",
   "id": "86605c50",
   "metadata": {},
   "source": [
    "### Question 56\n",
    "\n",
    "Sort a Dictionary by Value"
   ]
  },
  {
   "cell_type": "code",
   "execution_count": null,
   "id": "e1c3e514",
   "metadata": {},
   "outputs": [],
   "source": [
    "# Your answer here"
   ]
  },
  {
   "cell_type": "markdown",
   "id": "032276f0",
   "metadata": {},
   "source": [
    "### Question 57\n",
    "\n",
    "Check If a List is Empty"
   ]
  },
  {
   "cell_type": "code",
   "execution_count": null,
   "id": "c37afd17",
   "metadata": {},
   "outputs": [],
   "source": [
    "# Your answer here"
   ]
  },
  {
   "cell_type": "markdown",
   "id": "7e95e3db",
   "metadata": {},
   "source": [
    "### Question 58\n",
    "\n",
    "Catch Multiple Exceptions in One Line"
   ]
  },
  {
   "cell_type": "code",
   "execution_count": null,
   "id": "4d663bb5",
   "metadata": {},
   "outputs": [],
   "source": [
    "# Your answer here"
   ]
  },
  {
   "cell_type": "markdown",
   "id": "8d1acaff",
   "metadata": {},
   "source": [
    "### Question 59\n",
    "\n",
    "Copy a File"
   ]
  },
  {
   "cell_type": "code",
   "execution_count": null,
   "id": "84f9c722",
   "metadata": {},
   "outputs": [],
   "source": [
    "# Your answer here"
   ]
  },
  {
   "cell_type": "markdown",
   "id": "21813fb3",
   "metadata": {},
   "source": [
    "### Question 60\n",
    "\n",
    "Concatenate Two Lists"
   ]
  },
  {
   "cell_type": "code",
   "execution_count": null,
   "id": "0e656929",
   "metadata": {},
   "outputs": [],
   "source": [
    "# Your answer here"
   ]
  },
  {
   "cell_type": "markdown",
   "id": "d40334d9",
   "metadata": {},
   "source": [
    "### Question 61\n",
    "\n",
    "Check if a Key is Already Present in a Dictionary"
   ]
  },
  {
   "cell_type": "code",
   "execution_count": null,
   "id": "203cc234",
   "metadata": {},
   "outputs": [],
   "source": [
    "# Your answer here"
   ]
  },
  {
   "cell_type": "markdown",
   "id": "3c5438ed",
   "metadata": {},
   "source": [
    "### Question 62\n",
    "\n",
    "Split a List Into Evenly Sized Chunks"
   ]
  },
  {
   "cell_type": "code",
   "execution_count": null,
   "id": "35102488",
   "metadata": {},
   "outputs": [],
   "source": [
    "# Your answer here"
   ]
  },
  {
   "cell_type": "markdown",
   "id": "02ad2ade",
   "metadata": {},
   "source": [
    "### Question 63\n",
    "\n",
    "Parse a String to a Float or Int"
   ]
  },
  {
   "cell_type": "code",
   "execution_count": null,
   "id": "b96c23ce",
   "metadata": {},
   "outputs": [],
   "source": [
    "# Your answer here"
   ]
  },
  {
   "cell_type": "markdown",
   "id": "9ae25104",
   "metadata": {},
   "source": [
    "### Question 64\n",
    "\n",
    "Print Colored Text to the Terminal"
   ]
  },
  {
   "cell_type": "code",
   "execution_count": null,
   "id": "a1a344c5",
   "metadata": {},
   "outputs": [],
   "source": [
    "# Your answer here"
   ]
  },
  {
   "cell_type": "markdown",
   "id": "b5dc0506",
   "metadata": {},
   "source": [
    "### Question 65\n",
    "\n",
    "Convert String to Datetime"
   ]
  },
  {
   "cell_type": "code",
   "execution_count": null,
   "id": "ef308416",
   "metadata": {},
   "outputs": [],
   "source": [
    "# Your answer here"
   ]
  },
  {
   "cell_type": "markdown",
   "id": "fde024cb",
   "metadata": {},
   "source": [
    "### Question 66\n",
    "\n",
    "Generate a Random Number"
   ]
  },
  {
   "cell_type": "code",
   "execution_count": null,
   "id": "dea6f495",
   "metadata": {},
   "outputs": [],
   "source": [
    "# Your answer here"
   ]
  },
  {
   "cell_type": "markdown",
   "id": "e453b2e7",
   "metadata": {},
   "source": [
    "### Question 67\n",
    "\n",
    "Get the Last Element of the List"
   ]
  },
  {
   "cell_type": "code",
   "execution_count": null,
   "id": "f59df92c",
   "metadata": {},
   "outputs": [],
   "source": [
    "# Your answer here"
   ]
  },
  {
   "cell_type": "markdown",
   "id": "1941bbaf",
   "metadata": {},
   "source": [
    "### Question 68\n",
    "\n",
    "Get a Substring of a String"
   ]
  },
  {
   "cell_type": "code",
   "execution_count": null,
   "id": "f1bd3c6a",
   "metadata": {},
   "outputs": [],
   "source": [
    "# Your answer here"
   ]
  },
  {
   "cell_type": "markdown",
   "id": "c4ab7f82",
   "metadata": {},
   "source": [
    "### Question 69\n",
    "\n",
    "Print Output Without a Newline"
   ]
  },
  {
   "cell_type": "code",
   "execution_count": null,
   "id": "cbe5c11c",
   "metadata": {},
   "outputs": [],
   "source": [
    "# Your answer here"
   ]
  },
  {
   "cell_type": "markdown",
   "id": "308ae0f3",
   "metadata": {},
   "source": [
    "### Question 70\n",
    "\n",
    "read a File Line by Line Into a List"
   ]
  },
  {
   "cell_type": "code",
   "execution_count": null,
   "id": "35c40f13",
   "metadata": {},
   "outputs": [],
   "source": [
    "# Your answer here"
   ]
  },
  {
   "cell_type": "markdown",
   "id": "413f410f",
   "metadata": {},
   "source": [
    "### Question 71\n",
    "\n",
    "Randomly Select an Element From the List"
   ]
  },
  {
   "cell_type": "code",
   "execution_count": null,
   "id": "70e1c626",
   "metadata": {},
   "outputs": [],
   "source": [
    "# Your answer here"
   ]
  },
  {
   "cell_type": "markdown",
   "id": "49817e3e",
   "metadata": {},
   "source": [
    "### Question 72\n",
    "\n",
    "Check If a String Is a Number (Float)"
   ]
  },
  {
   "cell_type": "code",
   "execution_count": null,
   "id": "bc9018c2",
   "metadata": {},
   "outputs": [],
   "source": [
    "# Your answer here"
   ]
  },
  {
   "cell_type": "markdown",
   "id": "fe504060",
   "metadata": {},
   "source": [
    "### Question 73\n",
    "\n",
    "Count the Occurrence of an Item in a List"
   ]
  },
  {
   "cell_type": "code",
   "execution_count": null,
   "id": "753b63f7",
   "metadata": {},
   "outputs": [],
   "source": [
    "# Your answer here"
   ]
  },
  {
   "cell_type": "markdown",
   "id": "298a5981",
   "metadata": {},
   "source": [
    "### Question 74\n",
    "\n",
    "Append to a File"
   ]
  },
  {
   "cell_type": "code",
   "execution_count": null,
   "id": "b8208a00",
   "metadata": {},
   "outputs": [],
   "source": [
    "# Your answer here"
   ]
  },
  {
   "cell_type": "markdown",
   "id": "3bfdf438",
   "metadata": {},
   "source": [
    "### Question 75\n",
    "\n",
    "Delete an Element From a Dictionary"
   ]
  },
  {
   "cell_type": "code",
   "execution_count": null,
   "id": "ad868b13",
   "metadata": {},
   "outputs": [],
   "source": [
    "# Your answer here"
   ]
  },
  {
   "cell_type": "markdown",
   "id": "43993021",
   "metadata": {},
   "source": [
    "### Question 76\n",
    "\n",
    "Create a Long Multiline String"
   ]
  },
  {
   "cell_type": "code",
   "execution_count": null,
   "id": "dd959f3f",
   "metadata": {},
   "outputs": [],
   "source": [
    "# Your answer here"
   ]
  },
  {
   "cell_type": "markdown",
   "id": "20805393",
   "metadata": {},
   "source": [
    "### Question 77\n",
    "\n",
    "Extract Extension From the File Name"
   ]
  },
  {
   "cell_type": "code",
   "execution_count": null,
   "id": "4caebb3f",
   "metadata": {},
   "outputs": [],
   "source": [
    "# Your answer here"
   ]
  },
  {
   "cell_type": "markdown",
   "id": "83b5e791",
   "metadata": {},
   "source": [
    "### Question 78\n",
    "\n",
    "Measure the Elapsed Time in Python"
   ]
  },
  {
   "cell_type": "code",
   "execution_count": null,
   "id": "f38e80bc",
   "metadata": {},
   "outputs": [],
   "source": [
    "# Your answer here"
   ]
  },
  {
   "cell_type": "markdown",
   "id": "19f30221",
   "metadata": {},
   "source": [
    "### Question 79\n",
    "\n",
    "Get the Class Name of an Instance"
   ]
  },
  {
   "cell_type": "code",
   "execution_count": null,
   "id": "c19188cb",
   "metadata": {},
   "outputs": [],
   "source": [
    "# Your answer here"
   ]
  },
  {
   "cell_type": "markdown",
   "id": "7afec50a",
   "metadata": {},
   "source": [
    "### Question 80\n",
    "\n",
    "Convert Two Lists Into a Dictionary"
   ]
  },
  {
   "cell_type": "code",
   "execution_count": null,
   "id": "1216ab5f",
   "metadata": {},
   "outputs": [],
   "source": [
    "# Your answer here"
   ]
  },
  {
   "cell_type": "markdown",
   "id": "89ea8378",
   "metadata": {},
   "source": [
    "### Question 81\n",
    "\n",
    "Differentiate Between type() and isinstance()"
   ]
  },
  {
   "cell_type": "code",
   "execution_count": null,
   "id": "b7c8ee77",
   "metadata": {},
   "outputs": [],
   "source": [
    "# Your answer here"
   ]
  },
  {
   "cell_type": "markdown",
   "id": "ce5eb267",
   "metadata": {},
   "source": [
    "### Question 82\n",
    "\n",
    "Trim Whitespace From a String"
   ]
  },
  {
   "cell_type": "code",
   "execution_count": null,
   "id": "c10ed699",
   "metadata": {},
   "outputs": [],
   "source": [
    "# Your answer here"
   ]
  },
  {
   "cell_type": "markdown",
   "id": "e5e3ae7b",
   "metadata": {},
   "source": [
    "### Question 83\n",
    "\n",
    "Get the File Name From the File Path"
   ]
  },
  {
   "cell_type": "code",
   "execution_count": null,
   "id": "edb49ede",
   "metadata": {},
   "outputs": [],
   "source": [
    "# Your answer here"
   ]
  },
  {
   "cell_type": "markdown",
   "id": "e046d7a1",
   "metadata": {},
   "source": [
    "### Question 84\n",
    "\n",
    "Represent enum"
   ]
  },
  {
   "cell_type": "code",
   "execution_count": null,
   "id": "31330192",
   "metadata": {},
   "outputs": [],
   "source": [
    "# Your answer here"
   ]
  },
  {
   "cell_type": "markdown",
   "id": "591c0a9c",
   "metadata": {},
   "source": [
    "### Question 85\n",
    "\n",
    "Return Multiple Values From a Function"
   ]
  },
  {
   "cell_type": "code",
   "execution_count": null,
   "id": "423b4c7b",
   "metadata": {},
   "outputs": [],
   "source": [
    "# Your answer here"
   ]
  },
  {
   "cell_type": "markdown",
   "id": "551e2a90",
   "metadata": {},
   "source": [
    "### Question 86\n",
    "\n",
    "Get Line Count of a File"
   ]
  },
  {
   "cell_type": "code",
   "execution_count": null,
   "id": "9448cee7",
   "metadata": {},
   "outputs": [],
   "source": [
    "# Your answer here"
   ]
  },
  {
   "cell_type": "markdown",
   "id": "0072e75b",
   "metadata": {},
   "source": [
    "### Question 87\n",
    "\n",
    "Find All File with .txt Extension Present Inside a Directory"
   ]
  },
  {
   "cell_type": "code",
   "execution_count": null,
   "id": "ec795f5b",
   "metadata": {},
   "outputs": [],
   "source": [
    "# Your answer here"
   ]
  },
  {
   "cell_type": "markdown",
   "id": "b7fb8206",
   "metadata": {},
   "source": [
    "### Question 88\n",
    "\n",
    "Get File Creation and Modification Date"
   ]
  },
  {
   "cell_type": "code",
   "execution_count": null,
   "id": "17b48986",
   "metadata": {},
   "outputs": [],
   "source": [
    "# Your answer here"
   ]
  },
  {
   "cell_type": "markdown",
   "id": "55b175e0",
   "metadata": {},
   "source": [
    "### Question 89\n",
    "\n",
    "Get the Full Path of the Current Working Directory"
   ]
  },
  {
   "cell_type": "code",
   "execution_count": null,
   "id": "dfdc1ea9",
   "metadata": {},
   "outputs": [],
   "source": [
    "# Your answer here"
   ]
  },
  {
   "cell_type": "markdown",
   "id": "100d69b6",
   "metadata": {},
   "source": [
    "### Question 90\n",
    "\n",
    "Iterate Through Two Lists in Parallel"
   ]
  },
  {
   "cell_type": "code",
   "execution_count": null,
   "id": "00283981",
   "metadata": {},
   "outputs": [],
   "source": [
    "# Your answer here"
   ]
  },
  {
   "cell_type": "markdown",
   "id": "4f5150a2",
   "metadata": {},
   "source": [
    "### Question 91\n",
    "\n",
    "Check the File Size"
   ]
  },
  {
   "cell_type": "code",
   "execution_count": null,
   "id": "6899747a",
   "metadata": {},
   "outputs": [],
   "source": [
    "# Your answer here"
   ]
  },
  {
   "cell_type": "markdown",
   "id": "f891d0ed",
   "metadata": {},
   "source": [
    "### Question 92\n",
    "\n",
    "Compute the Power of a Number"
   ]
  },
  {
   "cell_type": "code",
   "execution_count": null,
   "id": "bcd06af0",
   "metadata": {},
   "outputs": [],
   "source": [
    "# Your answer here"
   ]
  },
  {
   "cell_type": "markdown",
   "id": "e8cc87be",
   "metadata": {},
   "source": [
    "### Question 93\n",
    "\n",
    "Count the Number of Digits Present In a Number"
   ]
  },
  {
   "cell_type": "code",
   "execution_count": null,
   "id": "6ffce768",
   "metadata": {},
   "outputs": [],
   "source": [
    "# Your answer here"
   ]
  },
  {
   "cell_type": "markdown",
   "id": "8d11a017",
   "metadata": {},
   "source": [
    "### Question 94\n",
    "\n",
    "Check If Two Strings are Anagram"
   ]
  },
  {
   "cell_type": "code",
   "execution_count": null,
   "id": "99ecc1b7",
   "metadata": {},
   "outputs": [],
   "source": [
    "# Your answer here"
   ]
  },
  {
   "cell_type": "markdown",
   "id": "3e4cd41f",
   "metadata": {},
   "source": [
    "### Question 95\n",
    "\n",
    "Capitalize the First Character of a String"
   ]
  },
  {
   "cell_type": "code",
   "execution_count": null,
   "id": "f7eafefe",
   "metadata": {},
   "outputs": [],
   "source": [
    "# Your answer here"
   ]
  },
  {
   "cell_type": "markdown",
   "id": "4685511d",
   "metadata": {},
   "source": [
    "### Question 96\n",
    "\n",
    "Compute all the Permutation of the String"
   ]
  },
  {
   "cell_type": "code",
   "execution_count": null,
   "id": "9fbc62c6",
   "metadata": {},
   "outputs": [],
   "source": [
    "# Your answer here"
   ]
  },
  {
   "cell_type": "markdown",
   "id": "1bb9100c",
   "metadata": {},
   "source": [
    "### Question 97\n",
    "\n",
    "Create a Countdown Timer"
   ]
  },
  {
   "cell_type": "code",
   "execution_count": null,
   "id": "c9b99eec",
   "metadata": {},
   "outputs": [],
   "source": [
    "# Your answer here"
   ]
  },
  {
   "cell_type": "markdown",
   "id": "755cf09b",
   "metadata": {},
   "source": [
    "### Question 98\n",
    "\n",
    "Count the Number of Occurrence of a Character in String"
   ]
  },
  {
   "cell_type": "code",
   "execution_count": null,
   "id": "1fda8277",
   "metadata": {},
   "outputs": [],
   "source": [
    "# Your answer here"
   ]
  },
  {
   "cell_type": "markdown",
   "id": "9f789301",
   "metadata": {},
   "source": [
    "### Question 99\n",
    "\n",
    "Remove Duplicate Element From a List"
   ]
  },
  {
   "cell_type": "code",
   "execution_count": null,
   "id": "876d247a",
   "metadata": {},
   "outputs": [],
   "source": [
    "# Your answer here"
   ]
  }
 ],
 "metadata": {
  "kernelspec": {
   "display_name": "myenv",
   "language": "python",
   "name": "python3"
  },
  "language_info": {
   "name": "python",
   "version": "3.13.2"
  }
 },
 "nbformat": 4,
 "nbformat_minor": 5
}
