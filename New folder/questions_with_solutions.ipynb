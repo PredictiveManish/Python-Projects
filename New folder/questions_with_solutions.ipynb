{
 "cells": [
  {
   "cell_type": "markdown",
   "id": "d93a91bb",
   "metadata": {},
   "source": [
    "### Question 1:\n",
    "\n",
    "Add Two Numbers"
   ]
  },
  {
   "cell_type": "code",
   "execution_count": 1,
   "id": "c0f84088",
   "metadata": {},
   "outputs": [
    {
     "name": "stdout",
     "output_type": "stream",
     "text": [
      "Sum of two numbers 10 and 20  = 30\n"
     ]
    }
   ],
   "source": [
    "def add(num1, num2):\n",
    "    return num1 + num2\n",
    "num1 = int(input(\"Enter first number: \"))\n",
    "num2 = int(input(\"Enter second number: \"))\n",
    "print(f\"Sum of two numbers {num1} and {num2}  = {add(num1,num2)}\")"
   ]
  },
  {
   "cell_type": "markdown",
   "id": "4cfd63da",
   "metadata": {},
   "source": [
    "### Question 2:\n",
    "\n",
    "Find the Square Root"
   ]
  },
  {
   "cell_type": "code",
   "execution_count": 2,
   "id": "fa69e301",
   "metadata": {},
   "outputs": [
    {
     "name": "stdout",
     "output_type": "stream",
     "text": [
      "Square root of 25 = 5.0\n"
     ]
    }
   ],
   "source": [
    "def square_root(num):\n",
    "    return num**0.5\n",
    "number = int(input(\"Enter number: \"))\n",
    "print(f\"Square root of {number} = {square_root(number)}\")"
   ]
  },
  {
   "cell_type": "markdown",
   "id": "b4517c68",
   "metadata": {},
   "source": [
    "### Question 3:\n",
    "\n",
    "Calculate the Area of a Triangle (Take input Base and Height)"
   ]
  },
  {
   "cell_type": "code",
   "execution_count": 3,
   "id": "b6fd1c49",
   "metadata": {},
   "outputs": [
    {
     "name": "stdout",
     "output_type": "stream",
     "text": [
      "Area of triangle with base 10 and height 40 is 200.0\n"
     ]
    }
   ],
   "source": [
    "def triangle_area(base, height):\n",
    "    return 0.5 * base * height\n",
    "base, height = map(int, input().split())\n",
    "print(f\"Area of triangle with base {base} and height {height} is {triangle_area(base, height)}\")"
   ]
  },
  {
   "cell_type": "markdown",
   "id": "05703842",
   "metadata": {},
   "source": [
    "### Question 4:\n",
    "\n",
    "Solve Quadratic Equation"
   ]
  },
  {
   "cell_type": "code",
   "execution_count": null,
   "id": "cbe7e042",
   "metadata": {},
   "outputs": [],
   "source": [
    "def quadratic(a, b, c):\n",
    "    \n",
    "    "
   ]
  },
  {
   "cell_type": "markdown",
   "id": "b10aa841",
   "metadata": {},
   "source": [
    "### Question 5:\n",
    "\n",
    "Swap Two Variables (Take two numbers swap it)"
   ]
  },
  {
   "cell_type": "code",
   "execution_count": null,
   "id": "873a6482",
   "metadata": {},
   "outputs": [],
   "source": [
    "def swap(a, b):\n",
    "    a = c\n",
    "    "
   ]
  },
  {
   "cell_type": "markdown",
   "id": "7216c41a",
   "metadata": {},
   "source": [
    "### Question 6:\n",
    "\n",
    "Generate a Random Number"
   ]
  },
  {
   "cell_type": "code",
   "execution_count": 8,
   "id": "c0910ed6",
   "metadata": {},
   "outputs": [
    {
     "name": "stdout",
     "output_type": "stream",
     "text": [
      "0.4628979145585427\n"
     ]
    }
   ],
   "source": [
    "# Write your solution here\n",
    "import random\n",
    "a = random.random()\n",
    "print(a)"
   ]
  },
  {
   "cell_type": "markdown",
   "id": "fe84fb23",
   "metadata": {},
   "source": [
    "### Question 7:\n",
    "\n",
    "Convert Kilometers to Miles (Take input km)"
   ]
  },
  {
   "cell_type": "code",
   "execution_count": 9,
   "id": "3760e19c",
   "metadata": {},
   "outputs": [
    {
     "name": "stdout",
     "output_type": "stream",
     "text": [
      "Distance in Miles: 6.0\n"
     ]
    }
   ],
   "source": [
    "# Write your solution here\n",
    "def km_miles(dist):\n",
    "    miles = dist * 0.6 \n",
    "    return miles\n",
    "dist = int(input())\n",
    "print(f\"Distance in Miles: {km_miles(dist)}\")"
   ]
  },
  {
   "cell_type": "markdown",
   "id": "59961f0a",
   "metadata": {},
   "source": [
    "### Question 8:\n",
    "\n",
    "Convert Celsius To Fahrenheit (Take input in Celsius)"
   ]
  },
  {
   "cell_type": "code",
   "execution_count": null,
   "id": "27aeeca5",
   "metadata": {},
   "outputs": [],
   "source": [
    "# Write your solution here\n",
    "def cel_far(temp):\n",
    "    # "
   ]
  },
  {
   "cell_type": "markdown",
   "id": "235304fe",
   "metadata": {},
   "source": [
    "### Question 9:\n",
    "\n",
    "Check if a Number is Positive, Negative or 0"
   ]
  },
  {
   "cell_type": "code",
   "execution_count": null,
   "id": "1da32ab9",
   "metadata": {},
   "outputs": [],
   "source": [
    "# Write your solution here"
   ]
  },
  {
   "cell_type": "markdown",
   "id": "3168aeb0",
   "metadata": {},
   "source": [
    "### Question 10:\n",
    "\n",
    "Check if a Number is Odd or Even"
   ]
  },
  {
   "cell_type": "code",
   "execution_count": null,
   "id": "0e64e3e7",
   "metadata": {},
   "outputs": [],
   "source": [
    "# Write your solution here"
   ]
  },
  {
   "cell_type": "markdown",
   "id": "cdb2bba0",
   "metadata": {},
   "source": [
    "### Question 11:\n",
    "\n",
    "Check Leap Year"
   ]
  },
  {
   "cell_type": "code",
   "execution_count": null,
   "id": "832585c2",
   "metadata": {},
   "outputs": [],
   "source": [
    "# Write your solution here"
   ]
  },
  {
   "cell_type": "markdown",
   "id": "fd4ec019",
   "metadata": {},
   "source": [
    "### Question 12:\n",
    "\n",
    "Find the Largest Among Three Numbers (Take 3 numbers as a input)"
   ]
  },
  {
   "cell_type": "code",
   "execution_count": null,
   "id": "0c35c2f5",
   "metadata": {},
   "outputs": [],
   "source": [
    "# Write your solution here\n"
   ]
  },
  {
   "cell_type": "markdown",
   "id": "a976a55f",
   "metadata": {},
   "source": [
    "### Question 13:\n",
    "\n",
    "Second Largest among three number(take input three number)"
   ]
  },
  {
   "cell_type": "code",
   "execution_count": null,
   "id": "d9d0ffcc",
   "metadata": {},
   "outputs": [],
   "source": [
    "# Write your solution here"
   ]
  },
  {
   "cell_type": "markdown",
   "id": "4da73e53",
   "metadata": {},
   "source": [
    "### Question 14:\n",
    "\n",
    "Display the multiplication Table ex - (2 *1 = 2)"
   ]
  },
  {
   "cell_type": "code",
   "execution_count": null,
   "id": "9e83e857",
   "metadata": {},
   "outputs": [],
   "source": [
    "# Write your solution here"
   ]
  },
  {
   "cell_type": "markdown",
   "id": "7c988ee8",
   "metadata": {},
   "source": [
    "### Question 15:\n",
    "\n",
    "Find the Factorial of a Number"
   ]
  },
  {
   "cell_type": "code",
   "execution_count": null,
   "id": "8704b9a1",
   "metadata": {},
   "outputs": [],
   "source": [
    "# Write your solution here"
   ]
  },
  {
   "cell_type": "markdown",
   "id": "ce359780",
   "metadata": {},
   "source": [
    "### Question 16:\n",
    "\n",
    "Perfect Square"
   ]
  },
  {
   "cell_type": "code",
   "execution_count": null,
   "id": "cce80c33",
   "metadata": {},
   "outputs": [],
   "source": [
    "# Write your solution here"
   ]
  },
  {
   "cell_type": "markdown",
   "id": "4a2857df",
   "metadata": {},
   "source": [
    "### Question 17:\n",
    "\n",
    "Check Prime Number (Take one number check it number is prime or not)"
   ]
  },
  {
   "cell_type": "code",
   "execution_count": null,
   "id": "cd83bfa6",
   "metadata": {},
   "outputs": [],
   "source": [
    "# Write your solution here"
   ]
  },
  {
   "cell_type": "markdown",
   "id": "9970a6e4",
   "metadata": {},
   "source": [
    "### Question 18:\n",
    "\n",
    "Find the Sum of Natural Numbers"
   ]
  },
  {
   "cell_type": "code",
   "execution_count": null,
   "id": "42205afe",
   "metadata": {},
   "outputs": [],
   "source": [
    "# Write your solution here"
   ]
  },
  {
   "cell_type": "markdown",
   "id": "8fcb9702",
   "metadata": {},
   "source": [
    "### Question 19:\n",
    "\n",
    "Find the Factors of a Number"
   ]
  },
  {
   "cell_type": "code",
   "execution_count": null,
   "id": "469a8e7e",
   "metadata": {},
   "outputs": [],
   "source": [
    "# Write your solution here"
   ]
  },
  {
   "cell_type": "markdown",
   "id": "c9b80aed",
   "metadata": {},
   "source": [
    "### Question 20:\n",
    "\n",
    "Check Whether a Number is Palindrome or Not"
   ]
  },
  {
   "cell_type": "code",
   "execution_count": null,
   "id": "27eab10a",
   "metadata": {},
   "outputs": [],
   "source": [
    "# Write your solution here"
   ]
  },
  {
   "cell_type": "markdown",
   "id": "ee25b137",
   "metadata": {},
   "source": [
    "### Question 21:\n",
    "\n",
    "Print the Fibonacci sequence (Display till number input)"
   ]
  },
  {
   "cell_type": "code",
   "execution_count": null,
   "id": "735f23ea",
   "metadata": {},
   "outputs": [],
   "source": [
    "# Write your solution here"
   ]
  },
  {
   "cell_type": "markdown",
   "id": "697e11af",
   "metadata": {},
   "source": [
    "### Question 22:\n",
    "\n",
    "Check Armstrong Number"
   ]
  },
  {
   "cell_type": "code",
   "execution_count": null,
   "id": "9fac1a7c",
   "metadata": {},
   "outputs": [],
   "source": [
    "# Write your solution here"
   ]
  },
  {
   "cell_type": "markdown",
   "id": "251188df",
   "metadata": {},
   "source": [
    "### Question 23:\n",
    "\n",
    "Find HCF or GCD"
   ]
  },
  {
   "cell_type": "code",
   "execution_count": null,
   "id": "3e1411d6",
   "metadata": {},
   "outputs": [],
   "source": [
    "# Write your solution here"
   ]
  },
  {
   "cell_type": "markdown",
   "id": "6b3adda1",
   "metadata": {},
   "source": [
    "### Question 24:\n",
    "\n",
    "Find LCM"
   ]
  },
  {
   "cell_type": "code",
   "execution_count": null,
   "id": "7c08edb2",
   "metadata": {},
   "outputs": [],
   "source": [
    "# Write your solution here"
   ]
  },
  {
   "cell_type": "markdown",
   "id": "f5043b9b",
   "metadata": {},
   "source": [
    "### Question 25:\n",
    "\n",
    "Print all Prime Numbers in an Interval"
   ]
  },
  {
   "cell_type": "code",
   "execution_count": null,
   "id": "3c889dcc",
   "metadata": {},
   "outputs": [],
   "source": [
    "# Write your solution here"
   ]
  },
  {
   "cell_type": "markdown",
   "id": "b220cdf1",
   "metadata": {},
   "source": [
    "### Question 26:\n",
    "\n",
    "Find Armstrong Number in an Interval"
   ]
  },
  {
   "cell_type": "code",
   "execution_count": null,
   "id": "691706e2",
   "metadata": {},
   "outputs": [],
   "source": [
    "# Write your solution here"
   ]
  },
  {
   "cell_type": "markdown",
   "id": "c188641c",
   "metadata": {},
   "source": [
    "### Question 27:\n",
    "\n",
    "Display Powers of 2 Using Anonymous Function"
   ]
  },
  {
   "cell_type": "code",
   "execution_count": null,
   "id": "41da7cbe",
   "metadata": {},
   "outputs": [],
   "source": [
    "# Write your solution here\n"
   ]
  },
  {
   "cell_type": "markdown",
   "id": "c1061cc5",
   "metadata": {},
   "source": [
    "### Question 28:\n",
    "\n",
    "Find Numbers Divisible by Another Number"
   ]
  },
  {
   "cell_type": "code",
   "execution_count": null,
   "id": "a3abb6d6",
   "metadata": {},
   "outputs": [],
   "source": [
    "# Write your solution here"
   ]
  },
  {
   "cell_type": "markdown",
   "id": "5d5a00e6",
   "metadata": {},
   "source": [
    "### Question 29:\n",
    "\n",
    "Convert Decimal to Binary, Octal and Hexadecimal"
   ]
  },
  {
   "cell_type": "code",
   "execution_count": null,
   "id": "db4ccf97",
   "metadata": {},
   "outputs": [],
   "source": [
    "# Write your solution here"
   ]
  },
  {
   "cell_type": "markdown",
   "id": "cc72cbf6",
   "metadata": {},
   "source": [
    "### Question 30:\n",
    "\n",
    "Find ASCII Value of Character"
   ]
  },
  {
   "cell_type": "code",
   "execution_count": 12,
   "id": "c3be9604",
   "metadata": {},
   "outputs": [
    {
     "name": "stdout",
     "output_type": "stream",
     "text": [
      "'ah'\n"
     ]
    }
   ],
   "source": [
    "# Write your solution here\n",
    "ch = input()\n",
    "print(ascii(ch))\n"
   ]
  },
  {
   "cell_type": "markdown",
   "id": "b6009a13",
   "metadata": {},
   "source": [
    "### Question 31:\n",
    "\n",
    "Make a Simple Calculator"
   ]
  },
  {
   "cell_type": "code",
   "execution_count": null,
   "id": "c6f93b05",
   "metadata": {},
   "outputs": [],
   "source": [
    "# Write your solution here"
   ]
  },
  {
   "cell_type": "markdown",
   "id": "f854d907",
   "metadata": {},
   "source": [
    "### Question 32:\n",
    "\n",
    "Shuffle Deck of Cards"
   ]
  },
  {
   "cell_type": "code",
   "execution_count": null,
   "id": "edbf5b71",
   "metadata": {},
   "outputs": [],
   "source": [
    "# Write your solution here"
   ]
  },
  {
   "cell_type": "markdown",
   "id": "71b0c113",
   "metadata": {},
   "source": [
    "### Question 33:\n",
    "\n",
    "Display Calendar"
   ]
  },
  {
   "cell_type": "code",
   "execution_count": 18,
   "id": "2e8a1909",
   "metadata": {},
   "outputs": [
    {
     "name": "stdout",
     "output_type": "stream",
     "text": [
      "2004-10-12 00:00:00\n"
     ]
    }
   ],
   "source": [
    "# Write your solution here\n",
    "import datetime\n",
    "print(datetime.datetime(2004,10,12))"
   ]
  },
  {
   "cell_type": "markdown",
   "id": "a9cf2247",
   "metadata": {},
   "source": [
    "### Question 34:\n",
    "\n",
    "Display Fibonacci Sequence Using Recursion"
   ]
  },
  {
   "cell_type": "code",
   "execution_count": null,
   "id": "5381dbba",
   "metadata": {},
   "outputs": [],
   "source": [
    "# Write your solution here"
   ]
  },
  {
   "cell_type": "markdown",
   "id": "b11bbb64",
   "metadata": {},
   "source": [
    "### Question 35:\n",
    "\n",
    "Find Sum of Natural Numbers Using Recursion"
   ]
  },
  {
   "cell_type": "code",
   "execution_count": null,
   "id": "ddd7d17e",
   "metadata": {},
   "outputs": [],
   "source": [
    "# Write your solution here"
   ]
  },
  {
   "cell_type": "markdown",
   "id": "e1683575",
   "metadata": {},
   "source": [
    "### Question 36:\n",
    "\n",
    "Find Factorial of Number Using Recursion"
   ]
  },
  {
   "cell_type": "code",
   "execution_count": null,
   "id": "4f99a634",
   "metadata": {},
   "outputs": [],
   "source": [
    "# Write your solution here"
   ]
  },
  {
   "cell_type": "markdown",
   "id": "6afdef05",
   "metadata": {},
   "source": [
    "### Question 37:\n",
    "\n",
    "Convert Decimal to Binary Using Recursion"
   ]
  },
  {
   "cell_type": "code",
   "execution_count": null,
   "id": "7b41842d",
   "metadata": {},
   "outputs": [],
   "source": [
    "# Write your solution here"
   ]
  },
  {
   "cell_type": "markdown",
   "id": "69a46e8c",
   "metadata": {},
   "source": [
    "### Question 38:\n",
    "\n",
    "Add Two Matrices"
   ]
  },
  {
   "cell_type": "code",
   "execution_count": null,
   "id": "cec66adc",
   "metadata": {},
   "outputs": [],
   "source": [
    "# Write your solution here"
   ]
  },
  {
   "cell_type": "markdown",
   "id": "0767d9fa",
   "metadata": {},
   "source": [
    "### Question 39:\n",
    "\n",
    "Transpose a Matrix"
   ]
  },
  {
   "cell_type": "code",
   "execution_count": null,
   "id": "0e1f8d3f",
   "metadata": {},
   "outputs": [],
   "source": [
    "# Write your solution here"
   ]
  },
  {
   "cell_type": "markdown",
   "id": "90e74556",
   "metadata": {},
   "source": [
    "### Question 40:\n",
    "\n",
    "Multiply Two Matrices"
   ]
  },
  {
   "cell_type": "code",
   "execution_count": null,
   "id": "72a67095",
   "metadata": {},
   "outputs": [],
   "source": [
    "# Write your solution here"
   ]
  },
  {
   "cell_type": "markdown",
   "id": "d6cc03e4",
   "metadata": {},
   "source": [
    "### Question 41:\n",
    "\n",
    "Check Whether a String is Palindrome or Not"
   ]
  },
  {
   "cell_type": "code",
   "execution_count": null,
   "id": "0311a952",
   "metadata": {},
   "outputs": [],
   "source": [
    "# Write your solution here"
   ]
  },
  {
   "cell_type": "markdown",
   "id": "471c52c9",
   "metadata": {},
   "source": [
    "### Question 42:\n",
    "\n",
    "Remove Punctuations From a String"
   ]
  },
  {
   "cell_type": "code",
   "execution_count": null,
   "id": "6adc3461",
   "metadata": {},
   "outputs": [],
   "source": [
    "# Write your solution here"
   ]
  },
  {
   "cell_type": "markdown",
   "id": "2ad6ac41",
   "metadata": {},
   "source": [
    "### Question 43:\n",
    "\n",
    "Sort Words in Alphabetic Order"
   ]
  },
  {
   "cell_type": "code",
   "execution_count": null,
   "id": "fb3ee999",
   "metadata": {},
   "outputs": [],
   "source": [
    "# Write your solution here"
   ]
  },
  {
   "cell_type": "markdown",
   "id": "97cd4d33",
   "metadata": {},
   "source": [
    "### Question 44:\n",
    "\n",
    "Illustrate Different Set Operations"
   ]
  },
  {
   "cell_type": "code",
   "execution_count": null,
   "id": "78be3421",
   "metadata": {},
   "outputs": [],
   "source": [
    "# Write your solution here"
   ]
  },
  {
   "cell_type": "markdown",
   "id": "8f402ccb",
   "metadata": {},
   "source": [
    "### Question 45:\n",
    "\n",
    "Count the Number of Each Vowel"
   ]
  },
  {
   "cell_type": "code",
   "execution_count": null,
   "id": "f6dc8e29",
   "metadata": {},
   "outputs": [],
   "source": [
    "# Write your solution here"
   ]
  },
  {
   "cell_type": "markdown",
   "id": "2082e547",
   "metadata": {},
   "source": [
    "### Question 46:\n",
    "\n",
    "Merge Mails"
   ]
  },
  {
   "cell_type": "code",
   "execution_count": null,
   "id": "1ab77b6a",
   "metadata": {},
   "outputs": [],
   "source": [
    "# Write your solution here"
   ]
  },
  {
   "cell_type": "markdown",
   "id": "ba3c0f6b",
   "metadata": {},
   "source": [
    "### Question 47:\n",
    "\n",
    "Find the Size (Resolution) of an Image"
   ]
  },
  {
   "cell_type": "code",
   "execution_count": null,
   "id": "d1bdb826",
   "metadata": {},
   "outputs": [],
   "source": [
    "# Write your solution here"
   ]
  },
  {
   "cell_type": "markdown",
   "id": "d4c2f345",
   "metadata": {},
   "source": [
    "### Question 48:\n",
    "\n",
    "Find Hash of File"
   ]
  },
  {
   "cell_type": "code",
   "execution_count": null,
   "id": "f5c48fd6",
   "metadata": {},
   "outputs": [],
   "source": [
    "# Write your solution here"
   ]
  },
  {
   "cell_type": "markdown",
   "id": "d38324a4",
   "metadata": {},
   "source": [
    "### Question 49:\n",
    "\n",
    "Create Pyramid Patterns"
   ]
  },
  {
   "cell_type": "code",
   "execution_count": null,
   "id": "e90066fc",
   "metadata": {},
   "outputs": [],
   "source": [
    "# Write your solution here"
   ]
  },
  {
   "cell_type": "markdown",
   "id": "9303104c",
   "metadata": {},
   "source": [
    "### Question 50:\n",
    "\n",
    "Merge Two Dictionaries"
   ]
  },
  {
   "cell_type": "code",
   "execution_count": null,
   "id": "35995055",
   "metadata": {},
   "outputs": [],
   "source": [
    "# Write your solution here"
   ]
  },
  {
   "cell_type": "markdown",
   "id": "5b9cc557",
   "metadata": {},
   "source": [
    "### Question 51:\n",
    "\n",
    "Safely Create a Nested Directory"
   ]
  },
  {
   "cell_type": "code",
   "execution_count": null,
   "id": "bb93a944",
   "metadata": {},
   "outputs": [],
   "source": [
    "# Write your solution here"
   ]
  },
  {
   "cell_type": "markdown",
   "id": "ccdefda8",
   "metadata": {},
   "source": [
    "### Question 52:\n",
    "\n",
    "Access Index of a List Using for Loop"
   ]
  },
  {
   "cell_type": "code",
   "execution_count": null,
   "id": "ae4e13d8",
   "metadata": {},
   "outputs": [],
   "source": [
    "# Write your solution here"
   ]
  },
  {
   "cell_type": "markdown",
   "id": "a73fc184",
   "metadata": {},
   "source": [
    "### Question 53:\n",
    "\n",
    "Flatten a Nested List"
   ]
  },
  {
   "cell_type": "code",
   "execution_count": null,
   "id": "388e31a4",
   "metadata": {},
   "outputs": [],
   "source": [
    "# Write your solution here"
   ]
  },
  {
   "cell_type": "markdown",
   "id": "cbaf002e",
   "metadata": {},
   "source": [
    "### Question 54:\n",
    "\n",
    "Slice Lists"
   ]
  },
  {
   "cell_type": "code",
   "execution_count": null,
   "id": "819d5798",
   "metadata": {},
   "outputs": [],
   "source": [
    "# Write your solution here"
   ]
  },
  {
   "cell_type": "markdown",
   "id": "1356b25b",
   "metadata": {},
   "source": [
    "### Question 55:\n",
    "\n",
    "Iterate Over Dictionaries Using for Loop"
   ]
  },
  {
   "cell_type": "code",
   "execution_count": null,
   "id": "051ce040",
   "metadata": {},
   "outputs": [],
   "source": [
    "# Write your solution here"
   ]
  },
  {
   "cell_type": "markdown",
   "id": "660f52f0",
   "metadata": {},
   "source": [
    "### Question 56:\n",
    "\n",
    "Sort a Dictionary by Value"
   ]
  },
  {
   "cell_type": "code",
   "execution_count": null,
   "id": "786a0a65",
   "metadata": {},
   "outputs": [],
   "source": [
    "# Write your solution here"
   ]
  },
  {
   "cell_type": "markdown",
   "id": "090332e3",
   "metadata": {},
   "source": [
    "### Question 57:\n",
    "\n",
    "Check If a List is Empty"
   ]
  },
  {
   "cell_type": "code",
   "execution_count": null,
   "id": "9b07ce33",
   "metadata": {},
   "outputs": [],
   "source": [
    "# Write your solution here"
   ]
  },
  {
   "cell_type": "markdown",
   "id": "89411ce6",
   "metadata": {},
   "source": [
    "### Question 58:\n",
    "\n",
    "Catch Multiple Exceptions in One Line"
   ]
  },
  {
   "cell_type": "code",
   "execution_count": null,
   "id": "cf4f0060",
   "metadata": {},
   "outputs": [],
   "source": [
    "# Write your solution here"
   ]
  },
  {
   "cell_type": "markdown",
   "id": "86bfde52",
   "metadata": {},
   "source": [
    "### Question 59:\n",
    "\n",
    "Copy a File"
   ]
  },
  {
   "cell_type": "code",
   "execution_count": null,
   "id": "4c635153",
   "metadata": {},
   "outputs": [],
   "source": [
    "# Write your solution here"
   ]
  },
  {
   "cell_type": "markdown",
   "id": "e477b228",
   "metadata": {},
   "source": [
    "### Question 60:\n",
    "\n",
    "Concatenate Two Lists"
   ]
  },
  {
   "cell_type": "code",
   "execution_count": null,
   "id": "9c5afb97",
   "metadata": {},
   "outputs": [],
   "source": [
    "# Write your solution here"
   ]
  },
  {
   "cell_type": "markdown",
   "id": "3fae5fdd",
   "metadata": {},
   "source": [
    "### Question 61:\n",
    "\n",
    "Check if a Key is Already Present in a Dictionary"
   ]
  },
  {
   "cell_type": "code",
   "execution_count": null,
   "id": "c354ee0b",
   "metadata": {},
   "outputs": [],
   "source": [
    "# Write your solution here"
   ]
  },
  {
   "cell_type": "markdown",
   "id": "ccfd63f6",
   "metadata": {},
   "source": [
    "### Question 62:\n",
    "\n",
    "Split a List Into Evenly Sized Chunks"
   ]
  },
  {
   "cell_type": "code",
   "execution_count": null,
   "id": "883ec916",
   "metadata": {},
   "outputs": [],
   "source": [
    "# Write your solution here"
   ]
  },
  {
   "cell_type": "markdown",
   "id": "5019e088",
   "metadata": {},
   "source": [
    "### Question 63:\n",
    "\n",
    "Parse a String to a Float or Int"
   ]
  },
  {
   "cell_type": "code",
   "execution_count": null,
   "id": "e5e796cf",
   "metadata": {},
   "outputs": [],
   "source": [
    "# Write your solution here"
   ]
  },
  {
   "cell_type": "markdown",
   "id": "59093cc6",
   "metadata": {},
   "source": [
    "### Question 64:\n",
    "\n",
    "Print Colored Text to the Terminal"
   ]
  },
  {
   "cell_type": "code",
   "execution_count": null,
   "id": "41e21259",
   "metadata": {},
   "outputs": [],
   "source": [
    "# Write your solution here"
   ]
  },
  {
   "cell_type": "markdown",
   "id": "dceea73a",
   "metadata": {},
   "source": [
    "### Question 65:\n",
    "\n",
    "Convert String to Datetime"
   ]
  },
  {
   "cell_type": "code",
   "execution_count": null,
   "id": "c2ddc036",
   "metadata": {},
   "outputs": [],
   "source": [
    "# Write your solution here"
   ]
  },
  {
   "cell_type": "markdown",
   "id": "fccd0355",
   "metadata": {},
   "source": [
    "### Question 66:\n",
    "\n",
    "Get the Last Element of the List"
   ]
  },
  {
   "cell_type": "code",
   "execution_count": null,
   "id": "bcffe434",
   "metadata": {},
   "outputs": [],
   "source": [
    "# Write your solution here"
   ]
  },
  {
   "cell_type": "markdown",
   "id": "a946d8e1",
   "metadata": {},
   "source": [
    "### Question 67:\n",
    "\n",
    "Get a Substring of a String"
   ]
  },
  {
   "cell_type": "code",
   "execution_count": null,
   "id": "4013cb0d",
   "metadata": {},
   "outputs": [],
   "source": [
    "# Write your solution here"
   ]
  },
  {
   "cell_type": "markdown",
   "id": "9ee00216",
   "metadata": {},
   "source": [
    "### Question 68:\n",
    "\n",
    "Print Output Without a Newline"
   ]
  },
  {
   "cell_type": "code",
   "execution_count": null,
   "id": "9c4bb39c",
   "metadata": {},
   "outputs": [],
   "source": [
    "# Write your solution here"
   ]
  },
  {
   "cell_type": "markdown",
   "id": "f12d34d8",
   "metadata": {},
   "source": [
    "### Question 69:\n",
    "\n",
    "read a File Line by Line Into a List"
   ]
  },
  {
   "cell_type": "code",
   "execution_count": null,
   "id": "40ce62a7",
   "metadata": {},
   "outputs": [],
   "source": [
    "# Write your solution here"
   ]
  },
  {
   "cell_type": "markdown",
   "id": "1b18b6c9",
   "metadata": {},
   "source": [
    "### Question 70:\n",
    "\n",
    "Randomly Select an Element From the List"
   ]
  },
  {
   "cell_type": "code",
   "execution_count": null,
   "id": "a9602db9",
   "metadata": {},
   "outputs": [],
   "source": [
    "# Write your solution here"
   ]
  },
  {
   "cell_type": "markdown",
   "id": "aa1ba51d",
   "metadata": {},
   "source": [
    "### Question 71:\n",
    "\n",
    "Check If a String Is a Number (Float)"
   ]
  },
  {
   "cell_type": "code",
   "execution_count": null,
   "id": "b1e6a497",
   "metadata": {},
   "outputs": [],
   "source": [
    "# Write your solution here"
   ]
  },
  {
   "cell_type": "markdown",
   "id": "6f599db0",
   "metadata": {},
   "source": [
    "### Question 72:\n",
    "\n",
    "Count the Occurrence of an Item in a List"
   ]
  },
  {
   "cell_type": "code",
   "execution_count": null,
   "id": "ea785e1f",
   "metadata": {},
   "outputs": [],
   "source": [
    "# Write your solution here"
   ]
  },
  {
   "cell_type": "markdown",
   "id": "9af6d1fd",
   "metadata": {},
   "source": [
    "### Question 73:\n",
    "\n",
    "Append to a File"
   ]
  },
  {
   "cell_type": "code",
   "execution_count": null,
   "id": "7efcef1d",
   "metadata": {},
   "outputs": [],
   "source": [
    "# Write your solution here"
   ]
  },
  {
   "cell_type": "markdown",
   "id": "ddc18fa9",
   "metadata": {},
   "source": [
    "### Question 74:\n",
    "\n",
    "Delete an Element From a Dictionary"
   ]
  },
  {
   "cell_type": "code",
   "execution_count": null,
   "id": "2fc2c2e9",
   "metadata": {},
   "outputs": [],
   "source": [
    "# Write your solution here"
   ]
  },
  {
   "cell_type": "markdown",
   "id": "1f69b2c5",
   "metadata": {},
   "source": [
    "### Question 75:\n",
    "\n",
    "Create a Long Multiline String"
   ]
  },
  {
   "cell_type": "code",
   "execution_count": null,
   "id": "b86abdf4",
   "metadata": {},
   "outputs": [],
   "source": [
    "# Write your solution here"
   ]
  },
  {
   "cell_type": "markdown",
   "id": "22d9699e",
   "metadata": {},
   "source": [
    "### Question 76:\n",
    "\n",
    "Extract Extension From the File Name"
   ]
  },
  {
   "cell_type": "code",
   "execution_count": null,
   "id": "41fcf062",
   "metadata": {},
   "outputs": [],
   "source": [
    "# Write your solution here"
   ]
  },
  {
   "cell_type": "markdown",
   "id": "4b2b5d90",
   "metadata": {},
   "source": [
    "### Question 77:\n",
    "\n",
    "Measure the Elapsed Time in Python"
   ]
  },
  {
   "cell_type": "code",
   "execution_count": null,
   "id": "086506f3",
   "metadata": {},
   "outputs": [],
   "source": [
    "# Write your solution here"
   ]
  },
  {
   "cell_type": "markdown",
   "id": "c69b0081",
   "metadata": {},
   "source": [
    "### Question 78:\n",
    "\n",
    "Get the Class Name of an Instance"
   ]
  },
  {
   "cell_type": "code",
   "execution_count": null,
   "id": "f5030921",
   "metadata": {},
   "outputs": [],
   "source": [
    "# Write your solution here"
   ]
  },
  {
   "cell_type": "markdown",
   "id": "72266f10",
   "metadata": {},
   "source": [
    "### Question 79:\n",
    "\n",
    "Convert Two Lists Into a Dictionary"
   ]
  },
  {
   "cell_type": "code",
   "execution_count": null,
   "id": "3fceb992",
   "metadata": {},
   "outputs": [],
   "source": [
    "# Write your solution here"
   ]
  },
  {
   "cell_type": "markdown",
   "id": "29369d16",
   "metadata": {},
   "source": [
    "### Question 80:\n",
    "\n",
    "Differentiate Between type() and isinstance()"
   ]
  },
  {
   "cell_type": "code",
   "execution_count": null,
   "id": "9020d77a",
   "metadata": {},
   "outputs": [],
   "source": [
    "# Write your solution here"
   ]
  },
  {
   "cell_type": "markdown",
   "id": "a8feed29",
   "metadata": {},
   "source": [
    "### Question 81:\n",
    "\n",
    "Trim Whitespace From a String"
   ]
  },
  {
   "cell_type": "code",
   "execution_count": null,
   "id": "2d80f890",
   "metadata": {},
   "outputs": [],
   "source": [
    "# Write your solution here"
   ]
  },
  {
   "cell_type": "markdown",
   "id": "34974d8b",
   "metadata": {},
   "source": [
    "### Question 82:\n",
    "\n",
    "Get the File Name From the File Path"
   ]
  },
  {
   "cell_type": "code",
   "execution_count": null,
   "id": "aace47cb",
   "metadata": {},
   "outputs": [],
   "source": [
    "# Write your solution here"
   ]
  },
  {
   "cell_type": "markdown",
   "id": "cb7893c9",
   "metadata": {},
   "source": [
    "### Question 83:\n",
    "\n",
    "Represent enum"
   ]
  },
  {
   "cell_type": "code",
   "execution_count": null,
   "id": "747ebd78",
   "metadata": {},
   "outputs": [],
   "source": [
    "# Write your solution here"
   ]
  },
  {
   "cell_type": "markdown",
   "id": "6148621c",
   "metadata": {},
   "source": [
    "### Question 84:\n",
    "\n",
    "Return Multiple Values From a Function"
   ]
  },
  {
   "cell_type": "code",
   "execution_count": null,
   "id": "ed1649e4",
   "metadata": {},
   "outputs": [],
   "source": [
    "# Write your solution here"
   ]
  },
  {
   "cell_type": "markdown",
   "id": "52989f6b",
   "metadata": {},
   "source": [
    "### Question 85:\n",
    "\n",
    "Get Line Count of a File"
   ]
  },
  {
   "cell_type": "code",
   "execution_count": null,
   "id": "01e1dfd0",
   "metadata": {},
   "outputs": [],
   "source": [
    "# Write your solution here"
   ]
  },
  {
   "cell_type": "markdown",
   "id": "c4c739a5",
   "metadata": {},
   "source": [
    "### Question 86:\n",
    "\n",
    "Find All File with .txt Extension Present Inside a Directory"
   ]
  },
  {
   "cell_type": "code",
   "execution_count": null,
   "id": "561ee0ce",
   "metadata": {},
   "outputs": [],
   "source": [
    "# Write your solution here"
   ]
  },
  {
   "cell_type": "markdown",
   "id": "32cf51e1",
   "metadata": {},
   "source": [
    "### Question 87:\n",
    "\n",
    "Get File Creation and Modification Date"
   ]
  },
  {
   "cell_type": "code",
   "execution_count": null,
   "id": "0fc36832",
   "metadata": {},
   "outputs": [],
   "source": [
    "# Write your solution here"
   ]
  },
  {
   "cell_type": "markdown",
   "id": "d5445c06",
   "metadata": {},
   "source": [
    "### Question 88:\n",
    "\n",
    "Get the Full Path of the Current Working Directory"
   ]
  },
  {
   "cell_type": "code",
   "execution_count": null,
   "id": "fceabdcc",
   "metadata": {},
   "outputs": [],
   "source": [
    "# Write your solution here"
   ]
  },
  {
   "cell_type": "markdown",
   "id": "fcd679b1",
   "metadata": {},
   "source": [
    "### Question 89:\n",
    "\n",
    "Iterate Through Two Lists in Parallel"
   ]
  },
  {
   "cell_type": "code",
   "execution_count": null,
   "id": "7d72042c",
   "metadata": {},
   "outputs": [],
   "source": [
    "# Write your solution here"
   ]
  },
  {
   "cell_type": "markdown",
   "id": "aa8a893a",
   "metadata": {},
   "source": [
    "### Question 90:\n",
    "\n",
    "Check the File Size"
   ]
  },
  {
   "cell_type": "code",
   "execution_count": null,
   "id": "2d6d60a0",
   "metadata": {},
   "outputs": [],
   "source": [
    "# Write your solution here"
   ]
  },
  {
   "cell_type": "markdown",
   "id": "23d28b04",
   "metadata": {},
   "source": [
    "### Question 91:\n",
    "\n",
    "Reverse a Number"
   ]
  },
  {
   "cell_type": "code",
   "execution_count": null,
   "id": "75a2d560",
   "metadata": {},
   "outputs": [],
   "source": [
    "# Write your solution here"
   ]
  },
  {
   "cell_type": "markdown",
   "id": "18bd3731",
   "metadata": {},
   "source": [
    "### Question 92:\n",
    "\n",
    "Compute the Power of a Number"
   ]
  },
  {
   "cell_type": "code",
   "execution_count": null,
   "id": "9e2e4957",
   "metadata": {},
   "outputs": [],
   "source": [
    "# Write your solution here"
   ]
  },
  {
   "cell_type": "markdown",
   "id": "85f3a04a",
   "metadata": {},
   "source": [
    "### Question 93:\n",
    "\n",
    "Count the Number of Digits Present In a Number"
   ]
  },
  {
   "cell_type": "code",
   "execution_count": null,
   "id": "f2ddc5bd",
   "metadata": {},
   "outputs": [],
   "source": [
    "# Write your solution here"
   ]
  },
  {
   "cell_type": "markdown",
   "id": "37169607",
   "metadata": {},
   "source": [
    "### Question 94:\n",
    "\n",
    "Check If Two Strings are Anagram"
   ]
  },
  {
   "cell_type": "code",
   "execution_count": null,
   "id": "2f7454b5",
   "metadata": {},
   "outputs": [],
   "source": [
    "# Write your solution here"
   ]
  },
  {
   "cell_type": "markdown",
   "id": "638365ef",
   "metadata": {},
   "source": [
    "### Question 95:\n",
    "\n",
    "Capitalize the First Character of a String"
   ]
  },
  {
   "cell_type": "code",
   "execution_count": null,
   "id": "f7543972",
   "metadata": {},
   "outputs": [],
   "source": [
    "# Write your solution here"
   ]
  },
  {
   "cell_type": "markdown",
   "id": "61b78065",
   "metadata": {},
   "source": [
    "### Question 96:\n",
    "\n",
    "Compute all the Permutation of the String"
   ]
  },
  {
   "cell_type": "code",
   "execution_count": null,
   "id": "026f65b4",
   "metadata": {},
   "outputs": [],
   "source": [
    "# Write your solution here"
   ]
  },
  {
   "cell_type": "markdown",
   "id": "2395c645",
   "metadata": {},
   "source": [
    "### Question 97:\n",
    "\n",
    "Create a Countdown Timer"
   ]
  },
  {
   "cell_type": "code",
   "execution_count": null,
   "id": "60d7e2b7",
   "metadata": {},
   "outputs": [],
   "source": [
    "# Write your solution here"
   ]
  },
  {
   "cell_type": "markdown",
   "id": "c0eaff90",
   "metadata": {},
   "source": [
    "### Question 98:\n",
    "\n",
    "Count the Number of Occurrence of a Character in String"
   ]
  },
  {
   "cell_type": "code",
   "execution_count": null,
   "id": "5f0a05e3",
   "metadata": {},
   "outputs": [],
   "source": [
    "# Write your solution here"
   ]
  },
  {
   "cell_type": "markdown",
   "id": "04462167",
   "metadata": {},
   "source": [
    "### Question 99:\n",
    "\n",
    "Remove Duplicate Element From a List"
   ]
  },
  {
   "cell_type": "code",
   "execution_count": null,
   "id": "a50c62a5",
   "metadata": {},
   "outputs": [],
   "source": [
    "# Write your solution here"
   ]
  }
 ],
 "metadata": {
  "kernelspec": {
   "display_name": "Python 3",
   "language": "python",
   "name": "python3"
  },
  "language_info": {
   "codemirror_mode": {
    "name": "ipython",
    "version": 3
   },
   "file_extension": ".py",
   "mimetype": "text/x-python",
   "name": "python",
   "nbconvert_exporter": "python",
   "pygments_lexer": "ipython3",
   "version": "3.13.2"
  }
 },
 "nbformat": 4,
 "nbformat_minor": 5
}
